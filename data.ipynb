{
 "cells": [
  {
   "cell_type": "code",
   "execution_count": 1,
   "metadata": {},
   "outputs": [],
   "source": [
    "%matplotlib inline\n",
    "import os\n",
    "import seaborn as sns\n",
    "import numpy as np\n",
    "import matplotlib.pyplot as plt\n",
    "plt.style.use('seaborn-white')"
   ]
  },
  {
   "cell_type": "code",
   "execution_count": 2,
   "metadata": {},
   "outputs": [],
   "source": [
    "docs = []  # list with documents\n",
    "doc_names = [] # doc names with same index as docs\n",
    "links = []\n",
    "sample_seed = 2017\n",
    "raw_data_folder = 'aminer_org_v1'\n",
    "sample_size = 1000\n",
    "\n",
    "data_path = os.path.join(os.getcwd(), 'raw_data.tmp', raw_data_folder)\n",
    "with open(os.path.join(data_path, 'texts.txt'), 'r', encoding='utf8') as f:\n",
    "    for line in f:\n",
    "        line = line.split(' ')\n",
    "        doc_names.append(line[0])\n",
    "        docs.append(' '.join(line[1:]))\n",
    "\n",
    "doc_names_set = set(doc_names)\n",
    "links = []\n",
    "with open(os.path.join(data_path, 'links.txt'), 'r', encoding='utf8') as f:\n",
    "    for line in f:\n",
    "        line = line.strip().split(' ')\n",
    "        links.append([l for l in line[1:] if l in doc_names_set])  # only add links that are present in doc_names"
   ]
  },
  {
   "cell_type": "code",
   "execution_count": 3,
   "metadata": {},
   "outputs": [
    {
     "data": {
      "text/plain": [
       "Counter({0: 35438,\n",
       "         1: 26595,\n",
       "         2: 15980,\n",
       "         3: 10157,\n",
       "         4: 6879,\n",
       "         5: 4742,\n",
       "         6: 3233,\n",
       "         7: 2294,\n",
       "         8: 1592,\n",
       "         9: 1102,\n",
       "         10: 796,\n",
       "         11: 540,\n",
       "         12: 409,\n",
       "         13: 284,\n",
       "         14: 196,\n",
       "         15: 150,\n",
       "         16: 132,\n",
       "         17: 87,\n",
       "         18: 74,\n",
       "         19: 61,\n",
       "         20: 52,\n",
       "         21: 26,\n",
       "         22: 24,\n",
       "         23: 21,\n",
       "         24: 14,\n",
       "         25: 20,\n",
       "         26: 10,\n",
       "         27: 11,\n",
       "         28: 9,\n",
       "         29: 9,\n",
       "         30: 11,\n",
       "         31: 3,\n",
       "         32: 3,\n",
       "         33: 2,\n",
       "         34: 4,\n",
       "         35: 4,\n",
       "         36: 2,\n",
       "         37: 3,\n",
       "         38: 5,\n",
       "         39: 2,\n",
       "         40: 3,\n",
       "         41: 2,\n",
       "         42: 1,\n",
       "         43: 1,\n",
       "         45: 1,\n",
       "         46: 4,\n",
       "         48: 1,\n",
       "         55: 1,\n",
       "         57: 1,\n",
       "         60: 2,\n",
       "         61: 1,\n",
       "         64: 1,\n",
       "         67: 1,\n",
       "         74: 1,\n",
       "         78: 1,\n",
       "         83: 1,\n",
       "         102: 1})"
      ]
     },
     "execution_count": 3,
     "metadata": {},
     "output_type": "execute_result"
    },
    {
     "data": {
      "image/png": "[encoded data removed]",
      "text/plain": [
       "<matplotlib.figure.Figure at 0x1a178aea58>"
      ]
     },
     "metadata": {},
     "output_type": "display_data"
    }
   ],
   "source": [
    "from collections import Counter\n",
    "numbers_of_links = [len(l) for l in links]\n",
    "\n",
    "plt.figure(figsize=(15,10))\n",
    "distplot_ax = sns.distplot(numbers_of_links, hist=True, kde=False, bins=100)\n",
    "distplot_ax.set_xlim(0,15)\n",
    "distplot_ax.set_ylim(0,64000)\n",
    "distplot_ax.set_xticks(range(16))\n",
    "distplot_ax.tick_params(labelsize=15)\n",
    "distplot_ax.set_xlabel('Amount of referebnces', fontsize=15)\n",
    "distplot_ax.set_ylabel('Frequency', fontsize=15)\n",
    "Counter(numbers_of_links)"
   ]
  },
  {
   "cell_type": "code",
   "execution_count": 4,
   "metadata": {},
   "outputs": [
    {
     "name": "stdout",
     "output_type": "stream",
     "text": [
      "0 64353\n",
      "5 9017\n",
      "10 1579\n",
      "15 406\n",
      "20 207\n",
      "1000\n",
      "Final number of docs:  14744\n"
     ]
    }
   ],
   "source": [
    "if 0 < sample_size < len(doc_names):\n",
    "    np.random.seed(sample_seed)\n",
    "    # choices = np.random.choice(len(docs), sample_size, replace=False)\n",
    "    # docs = [docs[choice] for choice in choices]\n",
    "    # doc_names = [doc_names[choice] for choice in choices]\n",
    "    # links = [links[choice] for choice in choices]  # assumes same order of text and link file!\n",
    "\n",
    "    # sample using buckets from len(..\n",
    "\n",
    "    numbers_of_links = [len(l) for l in links]\n",
    "    bin_limits = [(0, 5), (5, 10), (10, 15), (15, 20), (20, 99999)]\n",
    "    doc_indices = []\n",
    "\n",
    "    per_bin_sample_size = int(sample_size / len(bin_limits))\n",
    "\n",
    "    for bin_lower_limit, bin_upper_limit in bin_limits:\n",
    "        # don't sample no links\n",
    "        indices_in_bin = [i for i, v in enumerate(numbers_of_links) if (bin_upper_limit >= v > bin_lower_limit)]\n",
    "        print(bin_lower_limit, len(indices_in_bin))\n",
    "        if per_bin_sample_size > len(indices_in_bin):\n",
    "            print(\"per_bin_sample_size > len(indices_in_bin)\")\n",
    "            choices = indices_in_bin\n",
    "        else:\n",
    "            choices = np.random.choice(indices_in_bin, per_bin_sample_size, replace=False)\n",
    "        doc_indices.extend(choices)\n",
    "\n",
    "    target_doc_indices = []\n",
    "    print(len(doc_indices))\n",
    "    for doc_index in doc_indices:  # add target docs from links\n",
    "        target_doc_indices.extend([doc_names.index(ti) for ti in links[doc_index]])\n",
    "    doc_indices.extend(target_doc_indices)\n",
    "\n",
    "    print('Final number of docs: ', len(doc_indices))\n",
    "    docs = [docs[choice] for choice in doc_indices]\n",
    "    doc_names = [doc_names[choice] for choice in doc_indices]\n",
    "    links = [links[choice] for choice in doc_indices]  # assumes same order of text and link file!\n",
    "\n",
    "    # Based on some inverse of PDF\n",
    "    # counter = Counter(numbers_of_links).items()\n",
    "    # counts = [c[0] for c in counter]\n",
    "    # sample_pdf = np.array([1 - c[1] / len(numbers_of_links) for c in counter])\n",
    "    # sample_pdf /= sum(sample_pdf)\n",
    "    # samples_per_count = np.random.choice(len(counts), sample_size, replace=True)\n",
    "\n",
    "temp_links = []\n",
    "for doc_name, links_per_node in zip(doc_names, links):\n",
    "    for link in links_per_node:\n",
    "        temp_links.append((doc_name, link))\n",
    "links = temp_links"
   ]
  }
 ],
 "metadata": {
  "kernelspec": {
   "display_name": "Python [conda env:regulatory_tracker]",
   "language": "python",
   "name": "conda-env-regulatory_tracker-py"
  },
  "language_info": {
   "codemirror_mode": {
    "name": "ipython",
    "version": 3
   },
   "file_extension": ".py",
   "mimetype": "text/x-python",
   "name": "python",
   "nbconvert_exporter": "python",
   "pygments_lexer": "ipython3",
   "version": "3.6.3"
  }
 },
 "nbformat": 4,
 "nbformat_minor": 2
}
