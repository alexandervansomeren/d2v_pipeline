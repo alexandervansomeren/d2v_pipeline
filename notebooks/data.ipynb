{
 "cells": [
  {
   "cell_type": "code",
   "execution_count": 1,
   "metadata": {},
   "outputs": [],
   "source": [
    "%matplotlib inline\n",
    "import os\n",
    "import seaborn as sns\n",
    "import numpy as np\n",
    "import matplotlib.pyplot as plt\n",
    "plt.style.use('seaborn-white')"
   ]
  },
  {
   "cell_type": "code",
   "execution_count": 2,
   "metadata": {},
   "outputs": [],
   "source": [
    "docs = []  # list with documents\n",
    "doc_names = [] # doc names with same index as docs\n",
    "links = []\n",
    "sample_seed = 2017\n",
    "data_folder = 'dblp_v10'  # aminer_org_v1\n",
    "sample_size = 50000\n",
    "\n",
    "data_path = os.path.join(os.getcwd(), '../data.tmp', data_folder)\n",
    "with open(os.path.join(data_path, 'texts.txt'), 'r', encoding='utf8') as f:\n",
    "    for line in f:\n",
    "        line = line.split(' ')\n",
    "        doc_names.append(line[0])\n",
    "        docs.append(' '.join(line[1:]))\n",
    "\n",
    "doc_names_set = set(doc_names)\n",
    "links = []\n",
    "with open(os.path.join(data_path, 'links.txt'), 'r', encoding='utf8') as f:\n",
    "    for line in f:\n",
    "        line = line.strip().split(' ')\n",
    "        links.append([l for l in line[1:] if l in doc_names_set])  # only add links that are present in doc_names"
   ]
  },
  {
   "cell_type": "code",
   "execution_count": 3,
   "metadata": {},
   "outputs": [
    {
     "name": "stdout",
     "output_type": "stream",
     "text": [
      "Number of docs:      1567300\n",
      "Number of doc_names: 1567300\n",
      "Number of links:     1567300\n"
     ]
    }
   ],
   "source": [
    "print('Number of docs:     ', len(docs))\n",
    "print('Number of doc_names:', len(doc_names))\n",
    "print('Number of links:    ', len(links))"
   ]
  },
  {
   "cell_type": "code",
   "execution_count": 13,
   "metadata": {},
   "outputs": [
    {
     "data": {
      "text/plain": [
       "False"
      ]
     },
     "execution_count": 13,
     "metadata": {},
     "output_type": "execute_result"
    }
   ],
   "source": [
    "strategy=\"expand\"\n",
    "data_cache = os.path.join(data_path, '_'.join(['', strategy,  str(sample_size), str(sample_seed)])) + '.p'\n",
    "import os\n",
    "os.path.exists(data_cache)"
   ]
  },
  {
   "cell_type": "code",
   "execution_count": 7,
   "metadata": {},
   "outputs": [
    {
     "data": {
      "text/plain": [
       "Counter({0: 18525,\n",
       "         1: 43710,\n",
       "         2: 75337,\n",
       "         3: 110440,\n",
       "         4: 134725,\n",
       "         5: 141629,\n",
       "         6: 126744,\n",
       "         7: 113572,\n",
       "         8: 99327,\n",
       "         9: 87759,\n",
       "         10: 77311,\n",
       "         11: 67523,\n",
       "         12: 58601,\n",
       "         13: 51000,\n",
       "         14: 44166,\n",
       "         15: 38844,\n",
       "         16: 33760,\n",
       "         17: 29798,\n",
       "         18: 25604,\n",
       "         19: 22573,\n",
       "         20: 19861,\n",
       "         21: 17531,\n",
       "         22: 15129,\n",
       "         23: 13293,\n",
       "         24: 11726,\n",
       "         25: 10434,\n",
       "         26: 8983,\n",
       "         27: 7990,\n",
       "         28: 6860,\n",
       "         29: 6010,\n",
       "         30: 5335,\n",
       "         31: 4722,\n",
       "         32: 4065,\n",
       "         33: 3615,\n",
       "         34: 3197,\n",
       "         35: 2809,\n",
       "         36: 2531,\n",
       "         37: 2122,\n",
       "         38: 1966,\n",
       "         39: 1731,\n",
       "         40: 1460,\n",
       "         41: 1356,\n",
       "         42: 1150,\n",
       "         43: 1055,\n",
       "         44: 934,\n",
       "         45: 803,\n",
       "         46: 807,\n",
       "         47: 692,\n",
       "         48: 581,\n",
       "         49: 494,\n",
       "         50: 470,\n",
       "         51: 479,\n",
       "         52: 373,\n",
       "         53: 361,\n",
       "         54: 350,\n",
       "         55: 325,\n",
       "         56: 264,\n",
       "         57: 234,\n",
       "         58: 234,\n",
       "         59: 198,\n",
       "         60: 196,\n",
       "         61: 166,\n",
       "         62: 173,\n",
       "         63: 144,\n",
       "         64: 132,\n",
       "         65: 136,\n",
       "         66: 99,\n",
       "         67: 113,\n",
       "         68: 109,\n",
       "         69: 102,\n",
       "         70: 101,\n",
       "         71: 94,\n",
       "         72: 100,\n",
       "         73: 82,\n",
       "         74: 89,\n",
       "         75: 90,\n",
       "         76: 70,\n",
       "         77: 56,\n",
       "         78: 69,\n",
       "         79: 58,\n",
       "         80: 60,\n",
       "         81: 65,\n",
       "         82: 45,\n",
       "         83: 55,\n",
       "         84: 43,\n",
       "         85: 44,\n",
       "         86: 50,\n",
       "         87: 37,\n",
       "         88: 30,\n",
       "         89: 34,\n",
       "         90: 38,\n",
       "         91: 41,\n",
       "         92: 31,\n",
       "         93: 27,\n",
       "         94: 24,\n",
       "         95: 36,\n",
       "         96: 40,\n",
       "         97: 24,\n",
       "         98: 22,\n",
       "         99: 35,\n",
       "         100: 29,\n",
       "         101: 28,\n",
       "         102: 30,\n",
       "         103: 24,\n",
       "         104: 28,\n",
       "         105: 20,\n",
       "         106: 13,\n",
       "         107: 27,\n",
       "         108: 18,\n",
       "         109: 19,\n",
       "         110: 16,\n",
       "         111: 18,\n",
       "         112: 20,\n",
       "         113: 19,\n",
       "         114: 12,\n",
       "         115: 21,\n",
       "         116: 15,\n",
       "         117: 15,\n",
       "         118: 16,\n",
       "         119: 17,\n",
       "         120: 12,\n",
       "         121: 20,\n",
       "         122: 11,\n",
       "         123: 11,\n",
       "         124: 9,\n",
       "         125: 22,\n",
       "         126: 7,\n",
       "         127: 8,\n",
       "         128: 4,\n",
       "         129: 10,\n",
       "         130: 8,\n",
       "         131: 8,\n",
       "         132: 7,\n",
       "         133: 4,\n",
       "         134: 14,\n",
       "         135: 7,\n",
       "         136: 7,\n",
       "         137: 9,\n",
       "         138: 2,\n",
       "         139: 5,\n",
       "         140: 9,\n",
       "         141: 7,\n",
       "         142: 8,\n",
       "         143: 6,\n",
       "         144: 9,\n",
       "         145: 9,\n",
       "         146: 5,\n",
       "         147: 12,\n",
       "         148: 6,\n",
       "         149: 10,\n",
       "         150: 2,\n",
       "         151: 7,\n",
       "         152: 5,\n",
       "         153: 6,\n",
       "         154: 7,\n",
       "         155: 5,\n",
       "         156: 3,\n",
       "         157: 2,\n",
       "         158: 2,\n",
       "         159: 3,\n",
       "         160: 4,\n",
       "         161: 5,\n",
       "         162: 3,\n",
       "         163: 4,\n",
       "         164: 5,\n",
       "         165: 3,\n",
       "         166: 5,\n",
       "         167: 7,\n",
       "         168: 4,\n",
       "         170: 2,\n",
       "         171: 2,\n",
       "         172: 1,\n",
       "         174: 3,\n",
       "         175: 3,\n",
       "         176: 3,\n",
       "         177: 1,\n",
       "         178: 4,\n",
       "         179: 5,\n",
       "         180: 1,\n",
       "         181: 2,\n",
       "         182: 1,\n",
       "         183: 2,\n",
       "         184: 1,\n",
       "         185: 1,\n",
       "         186: 1,\n",
       "         187: 2,\n",
       "         188: 2,\n",
       "         190: 2,\n",
       "         191: 3,\n",
       "         194: 1,\n",
       "         195: 3,\n",
       "         199: 1,\n",
       "         201: 2,\n",
       "         202: 1,\n",
       "         203: 1,\n",
       "         204: 2,\n",
       "         205: 1,\n",
       "         207: 1,\n",
       "         209: 3,\n",
       "         210: 2,\n",
       "         211: 1,\n",
       "         213: 1,\n",
       "         214: 3,\n",
       "         215: 1,\n",
       "         216: 1,\n",
       "         217: 1,\n",
       "         220: 1,\n",
       "         221: 1,\n",
       "         222: 1,\n",
       "         223: 1,\n",
       "         225: 3,\n",
       "         231: 2,\n",
       "         232: 1,\n",
       "         234: 1,\n",
       "         235: 1,\n",
       "         242: 1,\n",
       "         243: 2,\n",
       "         244: 2,\n",
       "         249: 2,\n",
       "         253: 1,\n",
       "         254: 1,\n",
       "         255: 1,\n",
       "         258: 1,\n",
       "         265: 1,\n",
       "         266: 1,\n",
       "         268: 1,\n",
       "         284: 1,\n",
       "         287: 1,\n",
       "         293: 1,\n",
       "         294: 1,\n",
       "         295: 1,\n",
       "         313: 1,\n",
       "         320: 1,\n",
       "         358: 1,\n",
       "         363: 1,\n",
       "         418: 1,\n",
       "         420: 1,\n",
       "         529: 1,\n",
       "         751: 1,\n",
       "         758: 1,\n",
       "         1031: 1})"
      ]
     },
     "execution_count": 7,
     "metadata": {},
     "output_type": "execute_result"
    },
    {
     "data": {
      "image/png": "[encoded data removed]",
      "text/plain": [
       "<matplotlib.figure.Figure at 0x1a830b5ef0>"
      ]
     },
     "metadata": {},
     "output_type": "display_data"
    }
   ],
   "source": [
    "from collections import Counter\n",
    "numbers_of_links = [len(l) for l in links]\n",
    "\n",
    "plt.figure(figsize=(15,10))\n",
    "distplot_ax = sns.distplot(numbers_of_links, hist=True, kde=False, bins=100)\n",
    "distplot_ax.set_xlim(0,15)\n",
    "# distplot_ax.set_ylim(0,64000)\n",
    "# distplot_ax.set_xticks(range(16))\n",
    "# distplot_ax.tick_params(labelsize=15)\n",
    "distplot_ax.set_xlabel('Amount of references', fontsize=15)\n",
    "distplot_ax.set_ylabel('Frequency', fontsize=15)\n",
    "Counter(numbers_of_links)"
   ]
  },
  {
   "cell_type": "code",
   "execution_count": 31,
   "metadata": {},
   "outputs": [
    {
     "data": {
      "text/plain": [
       "['09cb2d7d-47d1-4a85-bfe5-faa8221e644b',\n",
       " '10aa16da-3cc8-4af6-9d66-48037e915d76',\n",
       " '35cb45c3-9408-4096-ab30-bc2e4de3fb5d',\n",
       " '661a342e-a911-4420-b67d-51c75d3b14e9',\n",
       " '779553f3-e4c1-456e-bc01-5eb9d9567541',\n",
       " 'b24ba5c0-fee8-4a3e-9330-17f6564856cd',\n",
       " 'fd1c676d-1296-4f19-89b4-17c7ecd270f3']"
      ]
     },
     "execution_count": 31,
     "metadata": {},
     "output_type": "execute_result"
    }
   ],
   "source": [
    "# np.array(numbers_of_links).mean()\n",
    "links[0]"
   ]
  },
  {
   "cell_type": "code",
   "execution_count": null,
   "metadata": {},
   "outputs": [],
   "source": [
    "def candidates(old_sample, new_sample):\n",
    "    print('creating candidates')\n",
    "    sample_set = set(old_sample + new_sample)\n",
    "    cands = []\n",
    "    for source in new_sample:\n",
    "        for target in links[doc_names.index(source)]:\n",
    "            cands.append(target)\n",
    "    print(len(cands))\n",
    "    new_candidates = sample_set.union(cands)\n",
    "    print('done.')\n",
    "    return new_candidates"
   ]
  },
  {
   "cell_type": "code",
   "execution_count": 4,
   "metadata": {},
   "outputs": [],
   "source": [
    "def extend():\n",
    "    start_sample_size = int(sample_size / 100)\n",
    "    sampled_links = []\n",
    "    sampled_doc_names = set(np.random.choice(doc_names, start_sample_size, replace=False))\n",
    "    new_sample = sampled_doc_names.copy()\n",
    "    while True:\n",
    "        temp_sample = set()\n",
    "        for source in new_sample:\n",
    "            sampled_doc_names.add(source)\n",
    "            for target in links[doc_names.index(source)]:\n",
    "                sampled_links.append((source, target))\n",
    "                sampled_doc_names.add(target)\n",
    "                temp_sample.add(target)\n",
    "                if len(sampled_doc_names) == sample_size:\n",
    "                    sampled_links = list(set(sampled_links))\n",
    "                    sampled_doc_names = list(sampled_doc_names)\n",
    "                    return [docs[doc_names.index(sampled_doc_name)] for sampled_doc_name in\n",
    "                            sampled_doc_names], sampled_doc_names, sampled_links  # docs, doc_names, links\n",
    "        new_sample = temp_sample.difference(new_sample)"
   ]
  },
  {
   "cell_type": "code",
   "execution_count": 5,
   "metadata": {},
   "outputs": [
    {
     "name": "stdout",
     "output_type": "stream",
     "text": [
      "CPU times: user 16min 29s, sys: 18.8 s, total: 16min 47s\n",
      "Wall time: 17min 54s\n"
     ]
    }
   ],
   "source": [
    "%time docs, doc_names, links = extend()"
   ]
  },
  {
   "cell_type": "code",
   "execution_count": 23,
   "metadata": {},
   "outputs": [
    {
     "data": {
      "text/plain": [
       "('2f3398d6-7f62-406b-a01c-921adef8f800',\n",
       " '3d56b3f5-1ad5-4721-bafe-e7f3b2cd69f1')"
      ]
     },
     "execution_count": 23,
     "metadata": {},
     "output_type": "execute_result"
    }
   ],
   "source": []
  },
  {
   "cell_type": "code",
   "execution_count": 44,
   "metadata": {
    "scrolled": false
   },
   "outputs": [
    {
     "name": "stdout",
     "output_type": "stream",
     "text": [
      "creating candidates\n",
      "5164\n",
      "done.\n",
      "6036\n",
      "creating candidates\n"
     ]
    },
    {
     "ename": "KeyboardInterrupt",
     "evalue": "",
     "output_type": "error",
     "traceback": [
      "\u001b[0;31m---------------------------------------------------------------------------\u001b[0m",
      "\u001b[0;31mKeyboardInterrupt\u001b[0m                         Traceback (most recent call last)",
      "\u001b[0;32m<ipython-input-44-4fd129485485>\u001b[0m in \u001b[0;36m<module>\u001b[0;34m()\u001b[0m\n\u001b[1;32m     15\u001b[0m \u001b[0msample\u001b[0m \u001b[0;34m=\u001b[0m \u001b[0mlist\u001b[0m\u001b[0;34m(\u001b[0m\u001b[0mnp\u001b[0m\u001b[0;34m.\u001b[0m\u001b[0mrandom\u001b[0m\u001b[0;34m.\u001b[0m\u001b[0mchoice\u001b[0m\u001b[0;34m(\u001b[0m\u001b[0mdoc_names\u001b[0m\u001b[0;34m,\u001b[0m \u001b[0mstart_sample_size\u001b[0m\u001b[0;34m,\u001b[0m \u001b[0mreplace\u001b[0m\u001b[0;34m=\u001b[0m\u001b[0;32mFalse\u001b[0m\u001b[0;34m)\u001b[0m\u001b[0;34m)\u001b[0m\u001b[0;34m\u001b[0m\u001b[0m\n\u001b[1;32m     16\u001b[0m \u001b[0;32mwhile\u001b[0m \u001b[0mlen\u001b[0m\u001b[0;34m(\u001b[0m\u001b[0msample\u001b[0m\u001b[0;34m)\u001b[0m \u001b[0;34m<\u001b[0m \u001b[0msample_size\u001b[0m\u001b[0;34m:\u001b[0m\u001b[0;34m\u001b[0m\u001b[0m\n\u001b[0;32m---> 17\u001b[0;31m     \u001b[0mnew_cands\u001b[0m \u001b[0;34m=\u001b[0m \u001b[0mcandidates\u001b[0m\u001b[0;34m(\u001b[0m\u001b[0msample\u001b[0m\u001b[0;34m)\u001b[0m\u001b[0;34m\u001b[0m\u001b[0m\n\u001b[0m\u001b[1;32m     18\u001b[0m     \u001b[0;32mif\u001b[0m \u001b[0mlen\u001b[0m\u001b[0;34m(\u001b[0m\u001b[0mnew_cands\u001b[0m\u001b[0;34m)\u001b[0m \u001b[0;34m+\u001b[0m \u001b[0mlen\u001b[0m\u001b[0;34m(\u001b[0m\u001b[0msample\u001b[0m\u001b[0;34m)\u001b[0m \u001b[0;34m>\u001b[0m \u001b[0msample_size\u001b[0m\u001b[0;34m:\u001b[0m\u001b[0;34m\u001b[0m\u001b[0m\n\u001b[1;32m     19\u001b[0m         \u001b[0msample\u001b[0m\u001b[0;34m.\u001b[0m\u001b[0mextend\u001b[0m\u001b[0;34m(\u001b[0m\u001b[0mlist\u001b[0m\u001b[0;34m(\u001b[0m\u001b[0mnew_cands\u001b[0m\u001b[0;34m)\u001b[0m\u001b[0;34m[\u001b[0m\u001b[0;34m:\u001b[0m\u001b[0;34m(\u001b[0m\u001b[0msample_size\u001b[0m\u001b[0;34m-\u001b[0m\u001b[0mlen\u001b[0m\u001b[0;34m(\u001b[0m\u001b[0msample\u001b[0m\u001b[0;34m)\u001b[0m\u001b[0;34m)\u001b[0m\u001b[0;34m]\u001b[0m\u001b[0;34m)\u001b[0m\u001b[0;34m\u001b[0m\u001b[0m\n",
      "\u001b[0;32m<ipython-input-44-4fd129485485>\u001b[0m in \u001b[0;36mcandidates\u001b[0;34m(sample)\u001b[0m\n\u001b[1;32m      4\u001b[0m     \u001b[0mcands\u001b[0m \u001b[0;34m=\u001b[0m \u001b[0;34m[\u001b[0m\u001b[0;34m]\u001b[0m\u001b[0;34m\u001b[0m\u001b[0m\n\u001b[1;32m      5\u001b[0m     \u001b[0;32mfor\u001b[0m \u001b[0msource\u001b[0m \u001b[0;32min\u001b[0m \u001b[0msample\u001b[0m\u001b[0;34m:\u001b[0m\u001b[0;34m\u001b[0m\u001b[0m\n\u001b[0;32m----> 6\u001b[0;31m         \u001b[0;32mfor\u001b[0m \u001b[0mtarget\u001b[0m \u001b[0;32min\u001b[0m \u001b[0mlinks\u001b[0m\u001b[0;34m[\u001b[0m\u001b[0mdoc_names\u001b[0m\u001b[0;34m.\u001b[0m\u001b[0mindex\u001b[0m\u001b[0;34m(\u001b[0m\u001b[0msource\u001b[0m\u001b[0;34m)\u001b[0m\u001b[0;34m]\u001b[0m\u001b[0;34m:\u001b[0m\u001b[0;34m\u001b[0m\u001b[0m\n\u001b[0m\u001b[1;32m      7\u001b[0m             \u001b[0mcands\u001b[0m\u001b[0;34m.\u001b[0m\u001b[0mappend\u001b[0m\u001b[0;34m(\u001b[0m\u001b[0mtarget\u001b[0m\u001b[0;34m)\u001b[0m\u001b[0;34m\u001b[0m\u001b[0m\n\u001b[1;32m      8\u001b[0m     \u001b[0mprint\u001b[0m\u001b[0;34m(\u001b[0m\u001b[0mlen\u001b[0m\u001b[0;34m(\u001b[0m\u001b[0mcands\u001b[0m\u001b[0;34m)\u001b[0m\u001b[0;34m)\u001b[0m\u001b[0;34m\u001b[0m\u001b[0m\n",
      "\u001b[0;31mKeyboardInterrupt\u001b[0m: "
     ]
    }
   ],
   "source": [
    "\n",
    "\n",
    "        \n",
    "\n",
    "start_sample_size = int(sample_size/100)\n",
    "old_sample = []\n",
    "new_sample = list(np.random.choice(doc_names, start_sample_size, replace=False))\n",
    "while True:\n",
    "    if len(old_sample) + len(new_sample) >= sample_size:\n",
    "        # add old_sample including \n",
    "    old_sample.extend(new_sample)\n",
    "    new_sample = list(new_cands)\n",
    "    new_cands = candidates(new_sample)\n",
    "    if len(old_sample) + len(new_sample) + len(new_cands) > sample_size:\n",
    "        old_sample.extend(list(new_cands)[:(sample_size-len(sample))])\n",
    "        break\n",
    "    print(len(sample))"
   ]
  },
  {
   "cell_type": "code",
   "execution_count": 4,
   "metadata": {},
   "outputs": [
    {
     "name": "stdout",
     "output_type": "stream",
     "text": [
      "0 64353\n",
      "5 9017\n",
      "10 1579\n",
      "15 406\n",
      "20 207\n",
      "1000\n",
      "Final number of docs:  14744\n"
     ]
    }
   ],
   "source": [
    "# Strategy = binned\n",
    "if 0 < sample_size < len(doc_names):\n",
    "    np.random.seed(sample_seed)\n",
    "    # choices = np.random.choice(len(docs), sample_size, replace=False)\n",
    "    # docs = [docs[choice] for choice in choices]\n",
    "    # doc_names = [doc_names[choice] for choice in choices]\n",
    "    # links = [links[choice] for choice in choices]  # assumes same order of text and link file!\n",
    "\n",
    "    # sample using buckets from len(..\n",
    "\n",
    "    numbers_of_links = [len(l) for l in links]\n",
    "    bin_limits = [(0, 5), (5, 10), (10, 15), (15, 20), (20, 99999)]\n",
    "    doc_indices = []\n",
    "\n",
    "    per_bin_sample_size = int(sample_size / len(bin_limits))\n",
    "\n",
    "    for bin_lower_limit, bin_upper_limit in bin_limits:\n",
    "        # don't sample no links\n",
    "        indices_in_bin = [i for i, v in enumerate(numbers_of_links) if (bin_upper_limit >= v > bin_lower_limit)]\n",
    "        print(bin_lower_limit, len(indices_in_bin))\n",
    "        if per_bin_sample_size > len(indices_in_bin):\n",
    "            print(\"per_bin_sample_size > len(indices_in_bin)\")\n",
    "            choices = indices_in_bin\n",
    "        else:\n",
    "            choices = np.random.choice(indices_in_bin, per_bin_sample_size, replace=False)\n",
    "        doc_indices.extend(choices)\n",
    "\n",
    "    target_doc_indices = []\n",
    "    print(len(doc_indices))\n",
    "    for doc_index in doc_indices:  # add target docs from links\n",
    "        target_doc_indices.extend([doc_names.index(ti) for ti in links[doc_index]])\n",
    "    doc_indices.extend(target_doc_indices)\n",
    "\n",
    "    print('Final number of docs: ', len(doc_indices))\n",
    "    docs = [docs[choice] for choice in doc_indices]\n",
    "    doc_names = [doc_names[choice] for choice in doc_indices]\n",
    "    links = [links[choice] for choice in doc_indices]  # assumes same order of text and link file!\n",
    "\n",
    "    # Based on some inverse of PDF\n",
    "    # counter = Counter(numbers_of_links).items()\n",
    "    # counts = [c[0] for c in counter]\n",
    "    # sample_pdf = np.array([1 - c[1] / len(numbers_of_links) for c in counter])\n",
    "    # sample_pdf /= sum(sample_pdf)\n",
    "    # samples_per_count = np.random.choice(len(counts), sample_size, replace=True)\n",
    "\n",
    "temp_links = []\n",
    "for doc_name, links_per_node in zip(doc_names, links):\n",
    "    for link in links_per_node:\n",
    "        temp_links.append((doc_name, link))\n",
    "links = temp_links"
   ]
  }
 ],
 "metadata": {
  "kernelspec": {
   "display_name": "Python [conda env:regulatory_tracker]",
   "language": "python",
   "name": "conda-env-regulatory_tracker-py"
  },
  "language_info": {
   "codemirror_mode": {
    "name": "ipython",
    "version": 3
   },
   "file_extension": ".py",
   "mimetype": "text/x-python",
   "name": "python",
   "nbconvert_exporter": "python",
   "pygments_lexer": "ipython3",
   "version": "3.6.3"
  }
 },
 "nbformat": 4,
 "nbformat_minor": 2
}
