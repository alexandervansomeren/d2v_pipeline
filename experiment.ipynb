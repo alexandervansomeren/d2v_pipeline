{
 "cells": [
  {
   "cell_type": "code",
   "execution_count": 11,
   "metadata": {
    "collapsed": true
   },
   "outputs": [],
   "source": [
    "import pickle\n",
    "import os\n",
    "\n",
    "import doc2vec\n",
    "import scipy.spatial.distance\n",
    "\n",
    "import rank_metrics\n",
    "import numpy as np"
   ]
  },
  {
   "cell_type": "code",
   "execution_count": 3,
   "metadata": {
    "collapsed": true
   },
   "outputs": [],
   "source": [
    "os.environ['TF_CPP_MIN_LOG_LEVEL'] = '2'  # cancel optimization complaints by tensorflow"
   ]
  },
  {
   "cell_type": "code",
   "execution_count": 13,
   "metadata": {
    "collapsed": true
   },
   "outputs": [],
   "source": [
    "raw_data_folder = 'original_articles'\n",
    "rel_labels_fname = 'relevance_labels_' + raw_data_folder + '.p'\n",
    "doc2vec_model_folder = 'd2v_model/'\n",
    "\n",
    "distance_measure = 'cosine'"
   ]
  },
  {
   "cell_type": "code",
   "execution_count": 5,
   "metadata": {
    "collapsed": false
   },
   "outputs": [],
   "source": [
    "\"\"\"\n",
    "Get relevance labels\n",
    "\"\"\"\n",
    "\n",
    "if not os.path.isfile(rel_labels_fname):\n",
    "    print('Computing relevance labels using bm25... (this takes a while, but should only be done once..)')\n",
    "    import prepare_relevance_labels\n",
    "\n",
    "    prepare_relevance_labels.prepare_relevance_labels(output_fname=rel_labels_fname, folder=raw_data_folder)\n",
    "\n",
    "with open(rel_labels_fname, 'rb') as f:\n",
    "    source_dict, docs, doc_names, tokenized, bm25_scores, sorted_bm25_indices = pickle.load(f)"
   ]
  },
  {
   "cell_type": "code",
   "execution_count": 6,
   "metadata": {
    "collapsed": false
   },
   "outputs": [
    {
     "name": "stdout",
     "output_type": "stream",
     "text": [
      "Initializing and training paragraph vectors\n",
      "Initialized\n",
      "Average loss at step 0: 7.879668\n",
      "Average loss at step 2000: 43.138611\n",
      "Average loss at step 4000: 19.562843\n",
      "Average loss at step 6000: 8.941661\n",
      "Average loss at step 8000: 5.386621\n",
      "Average loss at step 10000: 3.872717\n",
      "Average loss at step 12000: 2.944995\n",
      "Average loss at step 14000: 2.544734\n",
      "Average loss at step 16000: 2.174527\n",
      "Average loss at step 18000: 1.893550\n",
      "Average loss at step 20000: 1.652510\n",
      "Average loss at step 22000: 1.492818\n",
      "Average loss at step 24000: 1.431367\n",
      "Average loss at step 26000: 1.244592\n",
      "Average loss at step 28000: 1.158001\n",
      "Average loss at step 30000: 1.091655\n",
      "Average loss at step 32000: 1.012576\n",
      "Average loss at step 34000: 0.935583\n",
      "Average loss at step 36000: 0.882244\n",
      "Average loss at step 38000: 0.840029\n",
      "Average loss at step 40000: 0.823955\n",
      "Average loss at step 42000: 0.748955\n",
      "Average loss at step 44000: 0.719958\n",
      "Average loss at step 46000: 0.665063\n",
      "Average loss at step 48000: 0.662402\n",
      "Average loss at step 50000: 0.642696\n",
      "Average loss at step 52000: 0.622176\n",
      "Average loss at step 54000: 0.580883\n",
      "Average loss at step 56000: 0.549285\n",
      "Average loss at step 58000: 0.540186\n",
      "Average loss at step 60000: 0.535277\n",
      "Average loss at step 62000: 0.524087\n",
      "Average loss at step 64000: 0.494239\n",
      "Average loss at step 66000: 0.478819\n",
      "Average loss at step 68000: 0.467509\n",
      "Average loss at step 70000: 0.460006\n",
      "Average loss at step 72000: 0.447804\n",
      "Average loss at step 74000: 0.420374\n",
      "Average loss at step 76000: 0.408223\n",
      "Average loss at step 78000: 0.415052\n",
      "Average loss at step 80000: 0.409337\n",
      "Average loss at step 82000: 0.388588\n",
      "Average loss at step 84000: 0.377036\n",
      "Average loss at step 86000: 0.366134\n",
      "Average loss at step 88000: 0.369740\n",
      "Average loss at step 90000: 0.358019\n",
      "Average loss at step 92000: 0.351048\n",
      "Average loss at step 94000: 0.337728\n",
      "Average loss at step 96000: 0.317695\n",
      "Average loss at step 98000: 0.319433\n",
      "Average loss at step 100000: 0.318600\n",
      "Model saved in file: d2v.model/model.ckpt\n"
     ]
    }
   ],
   "source": [
    "\"\"\"\n",
    "Train paragraph vectors\n",
    "\"\"\"\n",
    "\n",
    "# Always train, because restoring does not work\n",
    "if not False:  # os.path.exists(doc2vec_model_folder):\n",
    "    print('Initializing and training paragraph vectors')\n",
    "    d2v = doc2vec.Doc2Vec(batch_size=128,\n",
    "                          window_size=8,\n",
    "                          concat=True,\n",
    "                          architecture='pvdm',\n",
    "                          embedding_size_w=128,  # word embedding size\n",
    "                          embedding_size_d=128,  # document embeding size\n",
    "                          vocabulary_size=50000,\n",
    "                          document_size=len(docs),\n",
    "                          loss_type='sampled_softmax_loss',\n",
    "                          n_neg_samples=64,\n",
    "                          optimize='Adagrad',\n",
    "                          learning_rate=1.0,\n",
    "                          n_steps=100001  # 100001\n",
    "                          )\n",
    "\n",
    "    d2v.fit(tokenized)\n",
    "    d2v.save(doc2vec_model_folder)\n",
    "else:\n",
    "    d2v = doc2vec.Doc2Vec.restore(doc2vec_model_folder)"
   ]
  },
  {
   "cell_type": "code",
   "execution_count": 12,
   "metadata": {
    "collapsed": false
   },
   "outputs": [
    {
     "name": "stdout",
     "output_type": "stream",
     "text": [
      "INFO:tensorflow:Restoring parameters from d2v.model/\n"
     ]
    },
    {
     "ename": "NotFoundError",
     "evalue": "Unsuccessful TensorSliceReader constructor: Failed to find any matching files for d2v.model/\n\t [[Node: save/RestoreV2 = RestoreV2[dtypes=[DT_FLOAT], _device=\"/job:localhost/replica:0/task:0/cpu:0\"](_recv_save/Const_0, save/RestoreV2/tensor_names, save/RestoreV2/shape_and_slices)]]\n\nCaused by op 'save/RestoreV2', defined at:\n  File \"//anaconda/envs/graph/lib/python3.6/runpy.py\", line 193, in _run_module_as_main\n    \"__main__\", mod_spec)\n  File \"//anaconda/envs/graph/lib/python3.6/runpy.py\", line 85, in _run_code\n    exec(code, run_globals)\n  File \"//anaconda/envs/graph/lib/python3.6/site-packages/ipykernel_launcher.py\", line 16, in <module>\n    app.launch_new_instance()\n  File \"//anaconda/envs/graph/lib/python3.6/site-packages/traitlets/config/application.py\", line 658, in launch_instance\n    app.start()\n  File \"//anaconda/envs/graph/lib/python3.6/site-packages/ipykernel/kernelapp.py\", line 477, in start\n    ioloop.IOLoop.instance().start()\n  File \"//anaconda/envs/graph/lib/python3.6/site-packages/zmq/eventloop/ioloop.py\", line 177, in start\n    super(ZMQIOLoop, self).start()\n  File \"//anaconda/envs/graph/lib/python3.6/site-packages/tornado/ioloop.py\", line 888, in start\n    handler_func(fd_obj, events)\n  File \"//anaconda/envs/graph/lib/python3.6/site-packages/tornado/stack_context.py\", line 277, in null_wrapper\n    return fn(*args, **kwargs)\n  File \"//anaconda/envs/graph/lib/python3.6/site-packages/zmq/eventloop/zmqstream.py\", line 440, in _handle_events\n    self._handle_recv()\n  File \"//anaconda/envs/graph/lib/python3.6/site-packages/zmq/eventloop/zmqstream.py\", line 472, in _handle_recv\n    self._run_callback(callback, msg)\n  File \"//anaconda/envs/graph/lib/python3.6/site-packages/zmq/eventloop/zmqstream.py\", line 414, in _run_callback\n    callback(*args, **kwargs)\n  File \"//anaconda/envs/graph/lib/python3.6/site-packages/tornado/stack_context.py\", line 277, in null_wrapper\n    return fn(*args, **kwargs)\n  File \"//anaconda/envs/graph/lib/python3.6/site-packages/ipykernel/kernelbase.py\", line 283, in dispatcher\n    return self.dispatch_shell(stream, msg)\n  File \"//anaconda/envs/graph/lib/python3.6/site-packages/ipykernel/kernelbase.py\", line 235, in dispatch_shell\n    handler(stream, idents, msg)\n  File \"//anaconda/envs/graph/lib/python3.6/site-packages/ipykernel/kernelbase.py\", line 399, in execute_request\n    user_expressions, allow_stdin)\n  File \"//anaconda/envs/graph/lib/python3.6/site-packages/ipykernel/ipkernel.py\", line 196, in do_execute\n    res = shell.run_cell(code, store_history=store_history, silent=silent)\n  File \"//anaconda/envs/graph/lib/python3.6/site-packages/ipykernel/zmqshell.py\", line 533, in run_cell\n    return super(ZMQInteractiveShell, self).run_cell(*args, **kwargs)\n  File \"//anaconda/envs/graph/lib/python3.6/site-packages/IPython/core/interactiveshell.py\", line 2698, in run_cell\n    interactivity=interactivity, compiler=compiler, result=result)\n  File \"//anaconda/envs/graph/lib/python3.6/site-packages/IPython/core/interactiveshell.py\", line 2802, in run_ast_nodes\n    if self.run_code(code, result):\n  File \"//anaconda/envs/graph/lib/python3.6/site-packages/IPython/core/interactiveshell.py\", line 2862, in run_code\n    exec(code_obj, self.user_global_ns, self.user_ns)\n  File \"<ipython-input-12-f425e8a2f428>\", line 1, in <module>\n    d2v = doc2vec.Doc2Vec.restore(doc2vec_model_folder)\n  File \"/Users/alexandervansomeren/Documents/Studie/Msc_AI/Thesis/regulatory tracker/doc2vec_pipeline/doc2vec.py\", line 317, in restore\n    # init an instance of this class\n  File \"/Users/alexandervansomeren/Documents/Studie/Msc_AI/Thesis/regulatory tracker/doc2vec_pipeline/doc2vec.py\", line 131, in __init__\n    self._init_graph()\n  File \"/Users/alexandervansomeren/Documents/Studie/Msc_AI/Thesis/regulatory tracker/doc2vec_pipeline/doc2vec.py\", line 232, in _init_graph\n    self.saver = tf.train.Saver()\n  File \"//anaconda/envs/graph/lib/python3.6/site-packages/tensorflow/python/training/saver.py\", line 1056, in __init__\n    self.build()\n  File \"//anaconda/envs/graph/lib/python3.6/site-packages/tensorflow/python/training/saver.py\", line 1086, in build\n    restore_sequentially=self._restore_sequentially)\n  File \"//anaconda/envs/graph/lib/python3.6/site-packages/tensorflow/python/training/saver.py\", line 691, in build\n    restore_sequentially, reshape)\n  File \"//anaconda/envs/graph/lib/python3.6/site-packages/tensorflow/python/training/saver.py\", line 407, in _AddRestoreOps\n    tensors = self.restore_op(filename_tensor, saveable, preferred_shard)\n  File \"//anaconda/envs/graph/lib/python3.6/site-packages/tensorflow/python/training/saver.py\", line 247, in restore_op\n    [spec.tensor.dtype])[0])\n  File \"//anaconda/envs/graph/lib/python3.6/site-packages/tensorflow/python/ops/gen_io_ops.py\", line 669, in restore_v2\n    dtypes=dtypes, name=name)\n  File \"//anaconda/envs/graph/lib/python3.6/site-packages/tensorflow/python/framework/op_def_library.py\", line 768, in apply_op\n    op_def=op_def)\n  File \"//anaconda/envs/graph/lib/python3.6/site-packages/tensorflow/python/framework/ops.py\", line 2336, in create_op\n    original_op=self._default_original_op, op_def=op_def)\n  File \"//anaconda/envs/graph/lib/python3.6/site-packages/tensorflow/python/framework/ops.py\", line 1228, in __init__\n    self._traceback = _extract_stack()\n\nNotFoundError (see above for traceback): Unsuccessful TensorSliceReader constructor: Failed to find any matching files for d2v.model/\n\t [[Node: save/RestoreV2 = RestoreV2[dtypes=[DT_FLOAT], _device=\"/job:localhost/replica:0/task:0/cpu:0\"](_recv_save/Const_0, save/RestoreV2/tensor_names, save/RestoreV2/shape_and_slices)]]\n",
     "output_type": "error",
     "traceback": [
      "\u001b[0;31m---------------------------------------------------------------------------\u001b[0m",
      "\u001b[0;31mNotFoundError\u001b[0m                             Traceback (most recent call last)",
      "\u001b[0;32m//anaconda/envs/graph/lib/python3.6/site-packages/tensorflow/python/client/session.py\u001b[0m in \u001b[0;36m_do_call\u001b[0;34m(self, fn, *args)\u001b[0m\n\u001b[1;32m   1038\u001b[0m     \u001b[0;32mtry\u001b[0m\u001b[0;34m:\u001b[0m\u001b[0;34m\u001b[0m\u001b[0m\n\u001b[0;32m-> 1039\u001b[0;31m       \u001b[0;32mreturn\u001b[0m \u001b[0mfn\u001b[0m\u001b[0;34m(\u001b[0m\u001b[0;34m*\u001b[0m\u001b[0margs\u001b[0m\u001b[0;34m)\u001b[0m\u001b[0;34m\u001b[0m\u001b[0m\n\u001b[0m\u001b[1;32m   1040\u001b[0m     \u001b[0;32mexcept\u001b[0m \u001b[0merrors\u001b[0m\u001b[0;34m.\u001b[0m\u001b[0mOpError\u001b[0m \u001b[0;32mas\u001b[0m \u001b[0me\u001b[0m\u001b[0;34m:\u001b[0m\u001b[0;34m\u001b[0m\u001b[0m\n",
      "\u001b[0;32m//anaconda/envs/graph/lib/python3.6/site-packages/tensorflow/python/client/session.py\u001b[0m in \u001b[0;36m_run_fn\u001b[0;34m(session, feed_dict, fetch_list, target_list, options, run_metadata)\u001b[0m\n\u001b[1;32m   1020\u001b[0m                                  \u001b[0mfeed_dict\u001b[0m\u001b[0;34m,\u001b[0m \u001b[0mfetch_list\u001b[0m\u001b[0;34m,\u001b[0m \u001b[0mtarget_list\u001b[0m\u001b[0;34m,\u001b[0m\u001b[0;34m\u001b[0m\u001b[0m\n\u001b[0;32m-> 1021\u001b[0;31m                                  status, run_metadata)\n\u001b[0m\u001b[1;32m   1022\u001b[0m \u001b[0;34m\u001b[0m\u001b[0m\n",
      "\u001b[0;32m//anaconda/envs/graph/lib/python3.6/contextlib.py\u001b[0m in \u001b[0;36m__exit__\u001b[0;34m(self, type, value, traceback)\u001b[0m\n\u001b[1;32m     88\u001b[0m             \u001b[0;32mtry\u001b[0m\u001b[0;34m:\u001b[0m\u001b[0;34m\u001b[0m\u001b[0m\n\u001b[0;32m---> 89\u001b[0;31m                 \u001b[0mnext\u001b[0m\u001b[0;34m(\u001b[0m\u001b[0mself\u001b[0m\u001b[0;34m.\u001b[0m\u001b[0mgen\u001b[0m\u001b[0;34m)\u001b[0m\u001b[0;34m\u001b[0m\u001b[0m\n\u001b[0m\u001b[1;32m     90\u001b[0m             \u001b[0;32mexcept\u001b[0m \u001b[0mStopIteration\u001b[0m\u001b[0;34m:\u001b[0m\u001b[0;34m\u001b[0m\u001b[0m\n",
      "\u001b[0;32m//anaconda/envs/graph/lib/python3.6/site-packages/tensorflow/python/framework/errors_impl.py\u001b[0m in \u001b[0;36mraise_exception_on_not_ok_status\u001b[0;34m()\u001b[0m\n\u001b[1;32m    465\u001b[0m           \u001b[0mcompat\u001b[0m\u001b[0;34m.\u001b[0m\u001b[0mas_text\u001b[0m\u001b[0;34m(\u001b[0m\u001b[0mpywrap_tensorflow\u001b[0m\u001b[0;34m.\u001b[0m\u001b[0mTF_Message\u001b[0m\u001b[0;34m(\u001b[0m\u001b[0mstatus\u001b[0m\u001b[0;34m)\u001b[0m\u001b[0;34m)\u001b[0m\u001b[0;34m,\u001b[0m\u001b[0;34m\u001b[0m\u001b[0m\n\u001b[0;32m--> 466\u001b[0;31m           pywrap_tensorflow.TF_GetCode(status))\n\u001b[0m\u001b[1;32m    467\u001b[0m   \u001b[0;32mfinally\u001b[0m\u001b[0;34m:\u001b[0m\u001b[0;34m\u001b[0m\u001b[0m\n",
      "\u001b[0;31mNotFoundError\u001b[0m: Unsuccessful TensorSliceReader constructor: Failed to find any matching files for d2v.model/\n\t [[Node: save/RestoreV2 = RestoreV2[dtypes=[DT_FLOAT], _device=\"/job:localhost/replica:0/task:0/cpu:0\"](_recv_save/Const_0, save/RestoreV2/tensor_names, save/RestoreV2/shape_and_slices)]]",
      "\nDuring handling of the above exception, another exception occurred:\n",
      "\u001b[0;31mNotFoundError\u001b[0m                             Traceback (most recent call last)",
      "\u001b[0;32m<ipython-input-12-f425e8a2f428>\u001b[0m in \u001b[0;36m<module>\u001b[0;34m()\u001b[0m\n\u001b[0;32m----> 1\u001b[0;31m \u001b[0md2v\u001b[0m \u001b[0;34m=\u001b[0m \u001b[0mdoc2vec\u001b[0m\u001b[0;34m.\u001b[0m\u001b[0mDoc2Vec\u001b[0m\u001b[0;34m.\u001b[0m\u001b[0mrestore\u001b[0m\u001b[0;34m(\u001b[0m\u001b[0mdoc2vec_model_folder\u001b[0m\u001b[0;34m)\u001b[0m\u001b[0;34m\u001b[0m\u001b[0m\n\u001b[0m",
      "\u001b[0;32m~/Documents/Studie/Msc_AI/Thesis/regulatory tracker/doc2vec_pipeline/doc2vec.py\u001b[0m in \u001b[0;36mrestore\u001b[0;34m(cls, path)\u001b[0m\n\u001b[1;32m    316\u001b[0m         \u001b[0mparams\u001b[0m \u001b[0;34m=\u001b[0m \u001b[0mjson\u001b[0m\u001b[0;34m.\u001b[0m\u001b[0mload\u001b[0m\u001b[0;34m(\u001b[0m\u001b[0mopen\u001b[0m\u001b[0;34m(\u001b[0m\u001b[0mos\u001b[0m\u001b[0;34m.\u001b[0m\u001b[0mpath\u001b[0m\u001b[0;34m.\u001b[0m\u001b[0mjoin\u001b[0m\u001b[0;34m(\u001b[0m\u001b[0mpath\u001b[0m\u001b[0;34m,\u001b[0m \u001b[0;34m'model_params.json'\u001b[0m\u001b[0;34m)\u001b[0m\u001b[0;34m,\u001b[0m \u001b[0;34m'r'\u001b[0m\u001b[0;34m)\u001b[0m\u001b[0;34m)\u001b[0m\u001b[0;34m\u001b[0m\u001b[0m\n\u001b[1;32m    317\u001b[0m         \u001b[0;31m# init an instance of this class\u001b[0m\u001b[0;34m\u001b[0m\u001b[0;34m\u001b[0m\u001b[0m\n\u001b[0;32m--> 318\u001b[0;31m         \u001b[0mestimator\u001b[0m \u001b[0;34m=\u001b[0m \u001b[0mDoc2Vec\u001b[0m\u001b[0;34m(\u001b[0m\u001b[0;34m**\u001b[0m\u001b[0mparams\u001b[0m\u001b[0;34m)\u001b[0m\u001b[0;34m\u001b[0m\u001b[0m\n\u001b[0m\u001b[1;32m    319\u001b[0m         \u001b[0;31m# estimator._restore(path)\u001b[0m\u001b[0;34m\u001b[0m\u001b[0;34m\u001b[0m\u001b[0m\n\u001b[1;32m    320\u001b[0m         \u001b[0;31m# # evaluate the Variable embeddings and bind to estimator\u001b[0m\u001b[0;34m\u001b[0m\u001b[0;34m\u001b[0m\u001b[0m\n",
      "\u001b[0;32m~/Documents/Studie/Msc_AI/Thesis/regulatory tracker/doc2vec_pipeline/doc2vec.py\u001b[0m in \u001b[0;36m_restore\u001b[0;34m(self, path)\u001b[0m\n\u001b[1;32m    304\u001b[0m     \u001b[0;32mdef\u001b[0m \u001b[0m_restore\u001b[0m\u001b[0;34m(\u001b[0m\u001b[0mself\u001b[0m\u001b[0;34m,\u001b[0m \u001b[0mpath\u001b[0m\u001b[0;34m)\u001b[0m\u001b[0;34m:\u001b[0m\u001b[0;34m\u001b[0m\u001b[0m\n\u001b[1;32m    305\u001b[0m         \u001b[0;32mwith\u001b[0m \u001b[0mself\u001b[0m\u001b[0;34m.\u001b[0m\u001b[0mgraph\u001b[0m\u001b[0;34m.\u001b[0m\u001b[0mas_default\u001b[0m\u001b[0;34m(\u001b[0m\u001b[0;34m)\u001b[0m\u001b[0;34m:\u001b[0m\u001b[0;34m\u001b[0m\u001b[0m\n\u001b[0;32m--> 306\u001b[0;31m             \u001b[0mself\u001b[0m\u001b[0;34m.\u001b[0m\u001b[0msaver\u001b[0m\u001b[0;34m.\u001b[0m\u001b[0mrestore\u001b[0m\u001b[0;34m(\u001b[0m\u001b[0mself\u001b[0m\u001b[0;34m.\u001b[0m\u001b[0msess\u001b[0m\u001b[0;34m,\u001b[0m \u001b[0mpath\u001b[0m\u001b[0;34m)\u001b[0m\u001b[0;34m\u001b[0m\u001b[0m\n\u001b[0m\u001b[1;32m    307\u001b[0m \u001b[0;34m\u001b[0m\u001b[0m\n\u001b[1;32m    308\u001b[0m     \u001b[0;34m@\u001b[0m\u001b[0mclassmethod\u001b[0m\u001b[0;34m\u001b[0m\u001b[0m\n",
      "\u001b[0;32m//anaconda/envs/graph/lib/python3.6/site-packages/tensorflow/python/training/saver.py\u001b[0m in \u001b[0;36mrestore\u001b[0;34m(self, sess, save_path)\u001b[0m\n\u001b[1;32m   1455\u001b[0m     \u001b[0mlogging\u001b[0m\u001b[0;34m.\u001b[0m\u001b[0minfo\u001b[0m\u001b[0;34m(\u001b[0m\u001b[0;34m\"Restoring parameters from %s\"\u001b[0m\u001b[0;34m,\u001b[0m \u001b[0msave_path\u001b[0m\u001b[0;34m)\u001b[0m\u001b[0;34m\u001b[0m\u001b[0m\n\u001b[1;32m   1456\u001b[0m     sess.run(self.saver_def.restore_op_name,\n\u001b[0;32m-> 1457\u001b[0;31m              {self.saver_def.filename_tensor_name: save_path})\n\u001b[0m\u001b[1;32m   1458\u001b[0m \u001b[0;34m\u001b[0m\u001b[0m\n\u001b[1;32m   1459\u001b[0m   \u001b[0;34m@\u001b[0m\u001b[0mstaticmethod\u001b[0m\u001b[0;34m\u001b[0m\u001b[0m\n",
      "\u001b[0;32m//anaconda/envs/graph/lib/python3.6/site-packages/tensorflow/python/client/session.py\u001b[0m in \u001b[0;36mrun\u001b[0;34m(self, fetches, feed_dict, options, run_metadata)\u001b[0m\n\u001b[1;32m    776\u001b[0m     \u001b[0;32mtry\u001b[0m\u001b[0;34m:\u001b[0m\u001b[0;34m\u001b[0m\u001b[0m\n\u001b[1;32m    777\u001b[0m       result = self._run(None, fetches, feed_dict, options_ptr,\n\u001b[0;32m--> 778\u001b[0;31m                          run_metadata_ptr)\n\u001b[0m\u001b[1;32m    779\u001b[0m       \u001b[0;32mif\u001b[0m \u001b[0mrun_metadata\u001b[0m\u001b[0;34m:\u001b[0m\u001b[0;34m\u001b[0m\u001b[0m\n\u001b[1;32m    780\u001b[0m         \u001b[0mproto_data\u001b[0m \u001b[0;34m=\u001b[0m \u001b[0mtf_session\u001b[0m\u001b[0;34m.\u001b[0m\u001b[0mTF_GetBuffer\u001b[0m\u001b[0;34m(\u001b[0m\u001b[0mrun_metadata_ptr\u001b[0m\u001b[0;34m)\u001b[0m\u001b[0;34m\u001b[0m\u001b[0m\n",
      "\u001b[0;32m//anaconda/envs/graph/lib/python3.6/site-packages/tensorflow/python/client/session.py\u001b[0m in \u001b[0;36m_run\u001b[0;34m(self, handle, fetches, feed_dict, options, run_metadata)\u001b[0m\n\u001b[1;32m    980\u001b[0m     \u001b[0;32mif\u001b[0m \u001b[0mfinal_fetches\u001b[0m \u001b[0;32mor\u001b[0m \u001b[0mfinal_targets\u001b[0m\u001b[0;34m:\u001b[0m\u001b[0;34m\u001b[0m\u001b[0m\n\u001b[1;32m    981\u001b[0m       results = self._do_run(handle, final_targets, final_fetches,\n\u001b[0;32m--> 982\u001b[0;31m                              feed_dict_string, options, run_metadata)\n\u001b[0m\u001b[1;32m    983\u001b[0m     \u001b[0;32melse\u001b[0m\u001b[0;34m:\u001b[0m\u001b[0;34m\u001b[0m\u001b[0m\n\u001b[1;32m    984\u001b[0m       \u001b[0mresults\u001b[0m \u001b[0;34m=\u001b[0m \u001b[0;34m[\u001b[0m\u001b[0;34m]\u001b[0m\u001b[0;34m\u001b[0m\u001b[0m\n",
      "\u001b[0;32m//anaconda/envs/graph/lib/python3.6/site-packages/tensorflow/python/client/session.py\u001b[0m in \u001b[0;36m_do_run\u001b[0;34m(self, handle, target_list, fetch_list, feed_dict, options, run_metadata)\u001b[0m\n\u001b[1;32m   1030\u001b[0m     \u001b[0;32mif\u001b[0m \u001b[0mhandle\u001b[0m \u001b[0;32mis\u001b[0m \u001b[0;32mNone\u001b[0m\u001b[0;34m:\u001b[0m\u001b[0;34m\u001b[0m\u001b[0m\n\u001b[1;32m   1031\u001b[0m       return self._do_call(_run_fn, self._session, feed_dict, fetch_list,\n\u001b[0;32m-> 1032\u001b[0;31m                            target_list, options, run_metadata)\n\u001b[0m\u001b[1;32m   1033\u001b[0m     \u001b[0;32melse\u001b[0m\u001b[0;34m:\u001b[0m\u001b[0;34m\u001b[0m\u001b[0m\n\u001b[1;32m   1034\u001b[0m       return self._do_call(_prun_fn, self._session, handle, feed_dict,\n",
      "\u001b[0;32m//anaconda/envs/graph/lib/python3.6/site-packages/tensorflow/python/client/session.py\u001b[0m in \u001b[0;36m_do_call\u001b[0;34m(self, fn, *args)\u001b[0m\n\u001b[1;32m   1050\u001b[0m         \u001b[0;32mexcept\u001b[0m \u001b[0mKeyError\u001b[0m\u001b[0;34m:\u001b[0m\u001b[0;34m\u001b[0m\u001b[0m\n\u001b[1;32m   1051\u001b[0m           \u001b[0;32mpass\u001b[0m\u001b[0;34m\u001b[0m\u001b[0m\n\u001b[0;32m-> 1052\u001b[0;31m       \u001b[0;32mraise\u001b[0m \u001b[0mtype\u001b[0m\u001b[0;34m(\u001b[0m\u001b[0me\u001b[0m\u001b[0;34m)\u001b[0m\u001b[0;34m(\u001b[0m\u001b[0mnode_def\u001b[0m\u001b[0;34m,\u001b[0m \u001b[0mop\u001b[0m\u001b[0;34m,\u001b[0m \u001b[0mmessage\u001b[0m\u001b[0;34m)\u001b[0m\u001b[0;34m\u001b[0m\u001b[0m\n\u001b[0m\u001b[1;32m   1053\u001b[0m \u001b[0;34m\u001b[0m\u001b[0m\n\u001b[1;32m   1054\u001b[0m   \u001b[0;32mdef\u001b[0m \u001b[0m_extend_graph\u001b[0m\u001b[0;34m(\u001b[0m\u001b[0mself\u001b[0m\u001b[0;34m)\u001b[0m\u001b[0;34m:\u001b[0m\u001b[0;34m\u001b[0m\u001b[0m\n",
      "\u001b[0;31mNotFoundError\u001b[0m: Unsuccessful TensorSliceReader constructor: Failed to find any matching files for d2v.model/\n\t [[Node: save/RestoreV2 = RestoreV2[dtypes=[DT_FLOAT], _device=\"/job:localhost/replica:0/task:0/cpu:0\"](_recv_save/Const_0, save/RestoreV2/tensor_names, save/RestoreV2/shape_and_slices)]]\n\nCaused by op 'save/RestoreV2', defined at:\n  File \"//anaconda/envs/graph/lib/python3.6/runpy.py\", line 193, in _run_module_as_main\n    \"__main__\", mod_spec)\n  File \"//anaconda/envs/graph/lib/python3.6/runpy.py\", line 85, in _run_code\n    exec(code, run_globals)\n  File \"//anaconda/envs/graph/lib/python3.6/site-packages/ipykernel_launcher.py\", line 16, in <module>\n    app.launch_new_instance()\n  File \"//anaconda/envs/graph/lib/python3.6/site-packages/traitlets/config/application.py\", line 658, in launch_instance\n    app.start()\n  File \"//anaconda/envs/graph/lib/python3.6/site-packages/ipykernel/kernelapp.py\", line 477, in start\n    ioloop.IOLoop.instance().start()\n  File \"//anaconda/envs/graph/lib/python3.6/site-packages/zmq/eventloop/ioloop.py\", line 177, in start\n    super(ZMQIOLoop, self).start()\n  File \"//anaconda/envs/graph/lib/python3.6/site-packages/tornado/ioloop.py\", line 888, in start\n    handler_func(fd_obj, events)\n  File \"//anaconda/envs/graph/lib/python3.6/site-packages/tornado/stack_context.py\", line 277, in null_wrapper\n    return fn(*args, **kwargs)\n  File \"//anaconda/envs/graph/lib/python3.6/site-packages/zmq/eventloop/zmqstream.py\", line 440, in _handle_events\n    self._handle_recv()\n  File \"//anaconda/envs/graph/lib/python3.6/site-packages/zmq/eventloop/zmqstream.py\", line 472, in _handle_recv\n    self._run_callback(callback, msg)\n  File \"//anaconda/envs/graph/lib/python3.6/site-packages/zmq/eventloop/zmqstream.py\", line 414, in _run_callback\n    callback(*args, **kwargs)\n  File \"//anaconda/envs/graph/lib/python3.6/site-packages/tornado/stack_context.py\", line 277, in null_wrapper\n    return fn(*args, **kwargs)\n  File \"//anaconda/envs/graph/lib/python3.6/site-packages/ipykernel/kernelbase.py\", line 283, in dispatcher\n    return self.dispatch_shell(stream, msg)\n  File \"//anaconda/envs/graph/lib/python3.6/site-packages/ipykernel/kernelbase.py\", line 235, in dispatch_shell\n    handler(stream, idents, msg)\n  File \"//anaconda/envs/graph/lib/python3.6/site-packages/ipykernel/kernelbase.py\", line 399, in execute_request\n    user_expressions, allow_stdin)\n  File \"//anaconda/envs/graph/lib/python3.6/site-packages/ipykernel/ipkernel.py\", line 196, in do_execute\n    res = shell.run_cell(code, store_history=store_history, silent=silent)\n  File \"//anaconda/envs/graph/lib/python3.6/site-packages/ipykernel/zmqshell.py\", line 533, in run_cell\n    return super(ZMQInteractiveShell, self).run_cell(*args, **kwargs)\n  File \"//anaconda/envs/graph/lib/python3.6/site-packages/IPython/core/interactiveshell.py\", line 2698, in run_cell\n    interactivity=interactivity, compiler=compiler, result=result)\n  File \"//anaconda/envs/graph/lib/python3.6/site-packages/IPython/core/interactiveshell.py\", line 2802, in run_ast_nodes\n    if self.run_code(code, result):\n  File \"//anaconda/envs/graph/lib/python3.6/site-packages/IPython/core/interactiveshell.py\", line 2862, in run_code\n    exec(code_obj, self.user_global_ns, self.user_ns)\n  File \"<ipython-input-12-f425e8a2f428>\", line 1, in <module>\n    d2v = doc2vec.Doc2Vec.restore(doc2vec_model_folder)\n  File \"/Users/alexandervansomeren/Documents/Studie/Msc_AI/Thesis/regulatory tracker/doc2vec_pipeline/doc2vec.py\", line 317, in restore\n    # init an instance of this class\n  File \"/Users/alexandervansomeren/Documents/Studie/Msc_AI/Thesis/regulatory tracker/doc2vec_pipeline/doc2vec.py\", line 131, in __init__\n    self._init_graph()\n  File \"/Users/alexandervansomeren/Documents/Studie/Msc_AI/Thesis/regulatory tracker/doc2vec_pipeline/doc2vec.py\", line 232, in _init_graph\n    self.saver = tf.train.Saver()\n  File \"//anaconda/envs/graph/lib/python3.6/site-packages/tensorflow/python/training/saver.py\", line 1056, in __init__\n    self.build()\n  File \"//anaconda/envs/graph/lib/python3.6/site-packages/tensorflow/python/training/saver.py\", line 1086, in build\n    restore_sequentially=self._restore_sequentially)\n  File \"//anaconda/envs/graph/lib/python3.6/site-packages/tensorflow/python/training/saver.py\", line 691, in build\n    restore_sequentially, reshape)\n  File \"//anaconda/envs/graph/lib/python3.6/site-packages/tensorflow/python/training/saver.py\", line 407, in _AddRestoreOps\n    tensors = self.restore_op(filename_tensor, saveable, preferred_shard)\n  File \"//anaconda/envs/graph/lib/python3.6/site-packages/tensorflow/python/training/saver.py\", line 247, in restore_op\n    [spec.tensor.dtype])[0])\n  File \"//anaconda/envs/graph/lib/python3.6/site-packages/tensorflow/python/ops/gen_io_ops.py\", line 669, in restore_v2\n    dtypes=dtypes, name=name)\n  File \"//anaconda/envs/graph/lib/python3.6/site-packages/tensorflow/python/framework/op_def_library.py\", line 768, in apply_op\n    op_def=op_def)\n  File \"//anaconda/envs/graph/lib/python3.6/site-packages/tensorflow/python/framework/ops.py\", line 2336, in create_op\n    original_op=self._default_original_op, op_def=op_def)\n  File \"//anaconda/envs/graph/lib/python3.6/site-packages/tensorflow/python/framework/ops.py\", line 1228, in __init__\n    self._traceback = _extract_stack()\n\nNotFoundError (see above for traceback): Unsuccessful TensorSliceReader constructor: Failed to find any matching files for d2v.model/\n\t [[Node: save/RestoreV2 = RestoreV2[dtypes=[DT_FLOAT], _device=\"/job:localhost/replica:0/task:0/cpu:0\"](_recv_save/Const_0, save/RestoreV2/tensor_names, save/RestoreV2/shape_and_slices)]]\n"
     ]
    }
   ],
   "source": [
    "d2v = doc2vec.Doc2Vec.restore(doc2vec_model_folder)\n"
   ]
  },
  {
   "cell_type": "code",
   "execution_count": 56,
   "metadata": {
    "collapsed": false
   },
   "outputs": [
    {
     "name": "stdout",
     "output_type": "stream",
     "text": [
      "MAP:  0.650890293018\n",
      "MRR:  0.707144396718\n"
     ]
    }
   ],
   "source": [
    "\"\"\"\n",
    "Evaluate\n",
    "\"\"\"\n",
    "distances = scipy.spatial.distance.squareform(scipy.spatial.distance.pdist(d2v.doc_embeddings, metric=distance_measure))\n",
    "\n",
    "results = []\n",
    "hits = []\n",
    "sorted_d2v_distance_indices = []\n",
    "for doc_index, distance in enumerate(distances):\n",
    "    sorted_distance_indices = sorted(range(len(distance)), key=lambda x: distance[x], reverse=False)\n",
    "    relevance_set = set(sorted_bm25_indices[doc_index][:10])\n",
    "    hit = np.array([ix in relevance_set for ix in sorted_distance_indices[:10]], dtype=int)\n",
    "    average_precision = rank_metrics.average_precision(hit)\n",
    "    ndcg_at_10 = rank_metrics.ndcg_at_k(hit, 10)\n",
    "    sorted_d2v_distance_indices.append(sorted_distance_indices)    \n",
    "    hits.append(hit)\n",
    "    results.append({\n",
    "        'average_precision': average_precision,\n",
    "        'ndcg_at_10': ndcg_at_10,\n",
    "    })\n",
    "\n",
    "print(\"MAP: \", rank_metrics.mean_average_precision(hits))\n",
    "print(\"MRR: \", rank_metrics.mean_reciprocal_rank(hits))"
   ]
  },
  {
   "cell_type": "markdown",
   "metadata": {},
   "source": [
    "NDIMS = 64\n",
    "\n",
    "MAP:  0.646\n",
    "MRR:  0.711\n",
    "\n",
    "NDIMS = 128\n",
    "\n",
    "MAP:  0.651\n",
    "MRR:  0.707"
   ]
  },
  {
   "cell_type": "code",
   "execution_count": 13,
   "metadata": {
    "collapsed": true
   },
   "outputs": [],
   "source": [
    "import pandas as pd"
   ]
  },
  {
   "cell_type": "code",
   "execution_count": 47,
   "metadata": {
    "collapsed": false
   },
   "outputs": [
    {
     "name": "stdout",
     "output_type": "stream",
     "text": [
      "      average_precision  ndcg_at_10\n",
      "0              1.000000    1.000000\n",
      "1              1.000000    1.000000\n",
      "2              0.000000    0.000000\n",
      "3              0.835000    0.916443\n",
      "4              1.000000    1.000000\n",
      "5              1.000000    1.000000\n",
      "6              1.000000    1.000000\n",
      "7              1.000000    1.000000\n",
      "8              1.000000    1.000000\n",
      "9              0.700000    0.715338\n",
      "10             0.000000    0.000000\n",
      "11             0.600000    0.650515\n",
      "12             1.000000    1.000000\n",
      "13             1.000000    1.000000\n",
      "14             0.666667    0.717181\n",
      "15             0.755556    0.783604\n",
      "16             0.833333    0.815465\n",
      "17             0.750000    0.750000\n",
      "18             0.750000    0.750000\n",
      "19             0.750000    0.868811\n",
      "20             1.000000    1.000000\n",
      "21             1.000000    1.000000\n",
      "22             0.750000    0.750000\n",
      "23             0.142857    0.356207\n",
      "24             0.750000    0.750000\n",
      "25             1.000000    1.000000\n",
      "26             0.622024    0.794376\n",
      "27             0.642857    0.678104\n",
      "28             0.770833    0.804165\n",
      "29             0.720000    0.860578\n",
      "...                 ...         ...\n",
      "1001           0.833333    0.815465\n",
      "1002           1.000000    1.000000\n",
      "1003           0.000000    0.000000\n",
      "1004           0.392857    0.678104\n",
      "1005           1.000000    1.000000\n",
      "1006           1.000000    1.000000\n",
      "1007           0.625000    0.666667\n",
      "1008           0.611111    0.657732\n",
      "1009           0.700000    0.715338\n",
      "1010           1.000000    1.000000\n",
      "1011           0.916667    0.950234\n",
      "1012           1.000000    1.000000\n",
      "1013           1.000000    1.000000\n",
      "1014           1.000000    1.000000\n",
      "1015           0.333333    0.630930\n",
      "1016           1.000000    1.000000\n",
      "1017           1.000000    1.000000\n",
      "1018           1.000000    1.000000\n",
      "1019           0.000000    0.000000\n",
      "1020           0.000000    0.000000\n",
      "1021           0.750000    0.750000\n",
      "1022           0.000000    0.000000\n",
      "1023           1.000000    1.000000\n",
      "1024           1.000000    1.000000\n",
      "1025           1.000000    1.000000\n",
      "1026           1.000000    1.000000\n",
      "1027           1.000000    1.000000\n",
      "1028           0.700000    0.715338\n",
      "1029           1.000000    1.000000\n",
      "1030           1.000000    1.000000\n",
      "\n",
      "[1031 rows x 2 columns]\n"
     ]
    }
   ],
   "source": [
    "df = pd.DataFrame(results)\n",
    "print(df)"
   ]
  },
  {
   "cell_type": "code",
   "execution_count": 57,
   "metadata": {
    "collapsed": false
   },
   "outputs": [
    {
     "name": "stdout",
     "output_type": "stream",
     "text": [
      "Source document:\n",
      "Article 37\n",
      "Deduction of intangible assets\n",
      "Institutions shall determine the amount of intangible assets to\n",
      "be deducted in accordance with the following:\n",
      "(a) the amount to be deducted shall be reduced by the amount\n",
      "of associated deferred tax liabilities that would be extinguished if the intangible assets became impaired or were\n",
      "derecognised under the applicable accounting framework;\n",
      "(b)\tthe amount to be deducted shall include goodwill included\n",
      "in the valuation of significant investments of the institution.\n",
      "J1) OJ L 331, 15.12.2010, p. 48.\n",
      "27.6.2013\n",
      "Official Journal of the European Union\n",
      " \n",
      "Most similar (BM25) documents:\n",
      "--------------------------------------------------\n",
      "333\n",
      "﻿Article 4\n",
      "Definitions\n",
      "4.1 For the purposes of this Regulation, the following definitions shall apply:\n",
      "4.1.1 'credit institution' means an undertaking the business of which is to take deposits or other repayable funds from the public and to grant credits for its own account;\n",
      "4.1.2 'investment firm' ...\n",
      "-------------------------\n",
      "851\n",
      "Article 1\n",
      "Regulation (EU) No 680/2014 is hereby amended as follows:\n",
      "(1)\tin Article 19, the following paragraph is inserted:\n",
      "“Without prejudice to Article 2, the first remittance date for templates 18 and 19 in\n",
      "Annex III shall be 31 December 2014. Rows and columns of templates 6, 9.1, 20.4,\n",
      "20.5, and...\n",
      "-------------------------\n",
      "\n",
      "Closest Doc2Vec documents:\n",
      "--------------------------------------------------\n",
      "300\n",
      "Article 37\n",
      "Deduction of intangible assets\n",
      "Institutions shall determine the amount of intangible assets to\n",
      "be deducted in accordance with the following:\n",
      "(a) the amount to be deducted shall be reduced by the amount\n",
      "of associated deferred tax liabilities that would be extinguished if the intangible ass....\n",
      "-------------------------\n",
      "612\n",
      "181. \n",
      "\n",
      "For the purpose of Article 181(1)(h) of Regulation (EU) No 575/2013 the LGD in-default \n",
      "may need to be increased above the level referred to in paragraph 180 in order to ensure that \n",
      "the difference between the LGD in-default and the ELBE covers for any increase of loss rate \n",
      "caused by possibl....\n",
      "-------------------------\n"
     ]
    }
   ],
   "source": [
    "def print_result_difference(ix, number_of_articles=2):\n",
    "    print(\"Source document:\")\n",
    "    print(docs[ix], '\\nMost similar (BM25) documents:\\n' + 50*'-')\n",
    "    for i in sorted_bm25_indices[ix][:number_of_articles]:\n",
    "        print(i)\n",
    "        print(docs[i][:300] + '...')\n",
    "        print(25*'-')\n",
    "    print('\\nClosest Doc2Vec documents:\\n' + 50*'-')\n",
    "    for i in sorted_d2v_distance_indices[ix][:number_of_articles]:\n",
    "        print(i)\n",
    "        print(docs[i][:300] + '....')\n",
    "        print(25*'-')\n",
    "print_result_difference(300)"
   ]
  }
 ],
 "metadata": {
  "kernelspec": {
   "display_name": "Python 3",
   "language": "python",
   "name": "python3"
  },
  "language_info": {
   "codemirror_mode": {
    "name": "ipython",
    "version": 3
   },
   "file_extension": ".py",
   "mimetype": "text/x-python",
   "name": "python",
   "nbconvert_exporter": "python",
   "pygments_lexer": "ipython3",
   "version": "3.6.1"
  }
 },
 "nbformat": 4,
 "nbformat_minor": 0
}
