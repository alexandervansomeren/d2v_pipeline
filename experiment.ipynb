{
 "cells": [
  {
   "cell_type": "code",
   "execution_count": 1,
   "metadata": {
    "collapsed": true
   },
   "outputs": [],
   "source": [
    "import pickle\n",
    "import os\n",
    "\n",
    "import doc2vec\n",
    "import scipy.spatial.distance\n",
    "\n",
    "import rank_metrics\n",
    "import numpy as np"
   ]
  },
  {
   "cell_type": "code",
   "execution_count": 2,
   "metadata": {
    "collapsed": true
   },
   "outputs": [],
   "source": [
    "os.environ['TF_CPP_MIN_LOG_LEVEL'] = '2'  # cancel optimization complaints by tensorflow"
   ]
  },
  {
   "cell_type": "code",
   "execution_count": 3,
   "metadata": {
    "collapsed": true
   },
   "outputs": [],
   "source": [
    "raw_data_folder = 'original_articles'\n",
    "rel_labels_fname = 'relevance_labels_' + raw_data_folder + '.p'\n",
    "doc2vec_model_folder = 'd2v.model/'\n",
    "\n",
    "distance_measure = 'cosine'"
   ]
  },
  {
   "cell_type": "code",
   "execution_count": 42,
   "metadata": {},
   "outputs": [],
   "source": [
    "\"\"\"\n",
    "Get relevance labels\n",
    "\"\"\"\n",
    "\n",
    "if not os.path.isfile(rel_labels_fname):\n",
    "    print('Computing relevance labels using bm25... (this takes a while, but should only be done once..)')\n",
    "    import prepare_relevance_labels\n",
    "\n",
    "    prepare_relevance_labels.prepare_relevance_labels(output_fname=rel_labels_fname, folder=raw_data_folder)\n",
    "\n",
    "with open(rel_labels_fname, 'rb') as f:\n",
    "    source_dict, docs, doc_names, tokenized, bm25_scores, sorted_bm25_indices = pickle.load(f)"
   ]
  },
  {
   "cell_type": "code",
   "execution_count": 55,
   "metadata": {},
   "outputs": [
    {
     "name": "stdout",
     "output_type": "stream",
     "text": [
      "Initializing and training paragraph vectors\n",
      "Initialized\n",
      "Average loss at step 0: 8.167775\n",
      "Average loss at step 2000: 46.125775\n",
      "Average loss at step 4000: 16.784407\n",
      "Average loss at step 6000: 8.508686\n",
      "Average loss at step 8000: 5.286444\n",
      "Average loss at step 10000: 4.072209\n",
      "Average loss at step 12000: 2.957042\n",
      "Average loss at step 14000: 2.510528\n",
      "Average loss at step 16000: 2.194513\n",
      "Average loss at step 18000: 1.925601\n",
      "Average loss at step 20000: 1.723574\n",
      "Average loss at step 22000: 1.474024\n",
      "Average loss at step 24000: 1.322927\n",
      "Average loss at step 26000: 1.250167\n",
      "Average loss at step 28000: 1.187439\n",
      "Average loss at step 30000: 1.101452\n",
      "Average loss at step 32000: 0.994075\n",
      "Average loss at step 34000: 0.939118\n",
      "Average loss at step 36000: 0.908325\n",
      "Average loss at step 38000: 0.884198\n",
      "Average loss at step 40000: 0.804825\n",
      "Average loss at step 42000: 0.757928\n",
      "Average loss at step 44000: 0.738213\n",
      "Average loss at step 46000: 0.738690\n",
      "Average loss at step 48000: 0.703040\n",
      "Average loss at step 50000: 0.636830\n",
      "Average loss at step 52000: 0.603266\n",
      "Average loss at step 54000: 0.581929\n",
      "Average loss at step 56000: 0.595025\n",
      "Average loss at step 58000: 0.567251\n",
      "Average loss at step 60000: 0.524475\n",
      "Average loss at step 62000: 0.518871\n",
      "Average loss at step 64000: 0.487296\n",
      "Average loss at step 66000: 0.505860\n",
      "Average loss at step 68000: 0.497627\n",
      "Average loss at step 70000: 0.466357\n",
      "Average loss at step 72000: 0.444849\n",
      "Average loss at step 74000: 0.456182\n",
      "Average loss at step 76000: 0.435423\n",
      "Average loss at step 78000: 0.420453\n",
      "Average loss at step 80000: 0.416868\n",
      "Average loss at step 82000: 0.394565\n",
      "Average loss at step 84000: 0.395879\n",
      "Average loss at step 86000: 0.398000\n",
      "Average loss at step 88000: 0.367451\n",
      "Average loss at step 90000: 0.354363\n",
      "Average loss at step 92000: 0.342531\n",
      "Average loss at step 94000: 0.352188\n",
      "Average loss at step 96000: 0.339934\n",
      "Average loss at step 98000: 0.319086\n",
      "Average loss at step 100000: 0.309025\n",
      "Model saved in file: d2v.model/model.ckpt\n"
     ]
    }
   ],
   "source": [
    "\"\"\"\n",
    "Train paragraph vectors\n",
    "\"\"\"\n",
    "\n",
    "# Always train, because restoring does not work\n",
    "if not False:  # os.path.exists(doc2vec_model_folder):\n",
    "    print('Initializing and training paragraph vectors')\n",
    "    d2v = doc2vec.Doc2Vec(batch_size=128,\n",
    "                          window_size=8,\n",
    "                          concat=True,\n",
    "                          architecture='pvdm',\n",
    "                          embedding_size_w=128,  # word embedding size\n",
    "                          embedding_size_d=128,  # document embeding size\n",
    "                          vocabulary_size=50000,\n",
    "                          document_size=len(docs),\n",
    "                          loss_type='sampled_softmax_loss',\n",
    "                          n_neg_samples=64,\n",
    "                          optimize='Adagrad',\n",
    "                          learning_rate=1.0,\n",
    "                          n_steps=100001  # 100001\n",
    "                          )\n",
    "\n",
    "    d2v.fit(tokenized)\n",
    "    d2v.save(doc2vec_model_folder)\n",
    "else:\n",
    "    d2v = doc2vec.Doc2Vec.restore(doc2vec_model_folder)"
   ]
  },
  {
   "cell_type": "code",
   "execution_count": null,
   "metadata": {
    "collapsed": true
   },
   "outputs": [],
   "source": [
    ""
   ]
  },
  {
   "cell_type": "code",
   "execution_count": 56,
   "metadata": {},
   "outputs": [
    {
     "name": "stdout",
     "output_type": "stream",
     "text": [
      "MAP:  0.650890293018\n",
      "MRR:  0.707144396718\n"
     ]
    }
   ],
   "source": [
    "\"\"\"\n",
    "Evaluate\n",
    "\"\"\"\n",
    "distances = scipy.spatial.distance.squareform(scipy.spatial.distance.pdist(d2v.doc_embeddings, metric=distance_measure))\n",
    "\n",
    "results = []\n",
    "hits = []\n",
    "sorted_d2v_distance_indices = []\n",
    "for doc_index, distance in enumerate(distances):\n",
    "    sorted_distance_indices = sorted(range(len(distance)), key=lambda x: distance[x], reverse=False)\n",
    "    relevance_set = set(sorted_bm25_indices[doc_index][:10])\n",
    "    hit = np.array([ix in relevance_set for ix in sorted_distance_indices[:10]], dtype=int)\n",
    "    average_precision = rank_metrics.average_precision(hit)\n",
    "    ndcg_at_10 = rank_metrics.ndcg_at_k(hit, 10)\n",
    "    sorted_d2v_distance_indices.append(sorted_distance_indices)    \n",
    "    hits.append(hit)\n",
    "    results.append({\n",
    "        'average_precision': average_precision,\n",
    "        'ndcg_at_10': ndcg_at_10,\n",
    "    })\n",
    "\n",
    "print(\"MAP: \", rank_metrics.mean_average_precision(hits))\n",
    "print(\"MRR: \", rank_metrics.mean_reciprocal_rank(hits))"
   ]
  },
  {
   "cell_type": "markdown",
   "metadata": {},
   "source": [
    "NDIMS = 64\n",
    "\n",
    "MAP:  0.646\n",
    "MRR:  0.711\n",
    "\n",
    "NDIMS = 128\n",
    "\n",
    "MAP:  0.651\n",
    "MRR:  0.707"
   ]
  },
  {
   "cell_type": "code",
   "execution_count": 13,
   "metadata": {
    "collapsed": true
   },
   "outputs": [],
   "source": [
    "import pandas as pd"
   ]
  },
  {
   "cell_type": "code",
   "execution_count": 47,
   "metadata": {},
   "outputs": [
    {
     "name": "stdout",
     "output_type": "stream",
     "text": [
      "      average_precision  ndcg_at_10\n",
      "0              1.000000    1.000000\n",
      "1              1.000000    1.000000\n",
      "2              0.000000    0.000000\n",
      "3              0.835000    0.916443\n",
      "4              1.000000    1.000000\n",
      "5              1.000000    1.000000\n",
      "6              1.000000    1.000000\n",
      "7              1.000000    1.000000\n",
      "8              1.000000    1.000000\n",
      "9              0.700000    0.715338\n",
      "10             0.000000    0.000000\n",
      "11             0.600000    0.650515\n",
      "12             1.000000    1.000000\n",
      "13             1.000000    1.000000\n",
      "14             0.666667    0.717181\n",
      "15             0.755556    0.783604\n",
      "16             0.833333    0.815465\n",
      "17             0.750000    0.750000\n",
      "18             0.750000    0.750000\n",
      "19             0.750000    0.868811\n",
      "20             1.000000    1.000000\n",
      "21             1.000000    1.000000\n",
      "22             0.750000    0.750000\n",
      "23             0.142857    0.356207\n",
      "24             0.750000    0.750000\n",
      "25             1.000000    1.000000\n",
      "26             0.622024    0.794376\n",
      "27             0.642857    0.678104\n",
      "28             0.770833    0.804165\n",
      "29             0.720000    0.860578\n",
      "...                 ...         ...\n",
      "1001           0.833333    0.815465\n",
      "1002           1.000000    1.000000\n",
      "1003           0.000000    0.000000\n",
      "1004           0.392857    0.678104\n",
      "1005           1.000000    1.000000\n",
      "1006           1.000000    1.000000\n",
      "1007           0.625000    0.666667\n",
      "1008           0.611111    0.657732\n",
      "1009           0.700000    0.715338\n",
      "1010           1.000000    1.000000\n",
      "1011           0.916667    0.950234\n",
      "1012           1.000000    1.000000\n",
      "1013           1.000000    1.000000\n",
      "1014           1.000000    1.000000\n",
      "1015           0.333333    0.630930\n",
      "1016           1.000000    1.000000\n",
      "1017           1.000000    1.000000\n",
      "1018           1.000000    1.000000\n",
      "1019           0.000000    0.000000\n",
      "1020           0.000000    0.000000\n",
      "1021           0.750000    0.750000\n",
      "1022           0.000000    0.000000\n",
      "1023           1.000000    1.000000\n",
      "1024           1.000000    1.000000\n",
      "1025           1.000000    1.000000\n",
      "1026           1.000000    1.000000\n",
      "1027           1.000000    1.000000\n",
      "1028           0.700000    0.715338\n",
      "1029           1.000000    1.000000\n",
      "1030           1.000000    1.000000\n",
      "\n",
      "[1031 rows x 2 columns]\n"
     ]
    }
   ],
   "source": [
    "df = pd.DataFrame(results)\n",
    "print(df)"
   ]
  },
  {
   "cell_type": "code",
   "execution_count": 57,
   "metadata": {},
   "outputs": [
    {
     "name": "stdout",
     "output_type": "stream",
     "text": [
      "Source document:\n",
      "Article 37\n",
      "Deduction of intangible assets\n",
      "Institutions shall determine the amount of intangible assets to\n",
      "be deducted in accordance with the following:\n",
      "(a) the amount to be deducted shall be reduced by the amount\n",
      "of associated deferred tax liabilities that would be extinguished if the intangible assets became impaired or were\n",
      "derecognised under the applicable accounting framework;\n",
      "(b)\tthe amount to be deducted shall include goodwill included\n",
      "in the valuation of significant investments of the institution.\n",
      "J1) OJ L 331, 15.12.2010, p. 48.\n",
      "27.6.2013\n",
      "Official Journal of the European Union\n",
      " \n",
      "Most similar (BM25) documents:\n",
      "--------------------------------------------------\n",
      "333\n",
      "﻿Article 4\n",
      "Definitions\n",
      "4.1 For the purposes of this Regulation, the following definitions shall apply:\n",
      "4.1.1 'credit institution' means an undertaking the business of which is to take deposits or other repayable funds from the public and to grant credits for its own account;\n",
      "4.1.2 'investment firm' ...\n",
      "-------------------------\n",
      "851\n",
      "Article 1\n",
      "Regulation (EU) No 680/2014 is hereby amended as follows:\n",
      "(1)\tin Article 19, the following paragraph is inserted:\n",
      "“Without prejudice to Article 2, the first remittance date for templates 18 and 19 in\n",
      "Annex III shall be 31 December 2014. Rows and columns of templates 6, 9.1, 20.4,\n",
      "20.5, and...\n",
      "-------------------------\n",
      "\n",
      "Closest Doc2Vec documents:\n",
      "--------------------------------------------------\n",
      "300\n",
      "Article 37\n",
      "Deduction of intangible assets\n",
      "Institutions shall determine the amount of intangible assets to\n",
      "be deducted in accordance with the following:\n",
      "(a) the amount to be deducted shall be reduced by the amount\n",
      "of associated deferred tax liabilities that would be extinguished if the intangible ass....\n",
      "-------------------------\n",
      "612\n",
      "181. \n",
      "\n",
      "For the purpose of Article 181(1)(h) of Regulation (EU) No 575/2013 the LGD in-default \n",
      "may need to be increased above the level referred to in paragraph 180 in order to ensure that \n",
      "the difference between the LGD in-default and the ELBE covers for any increase of loss rate \n",
      "caused by possibl....\n",
      "-------------------------\n"
     ]
    }
   ],
   "source": [
    "def print_result_difference(ix, number_of_articles=2):\n",
    "    print(\"Source document:\")\n",
    "    print(docs[ix], '\\nMost similar (BM25) documents:\\n' + 50*'-')\n",
    "    for i in sorted_bm25_indices[ix][:number_of_articles]:\n",
    "        print(i)\n",
    "        print(docs[i][:300] + '...')\n",
    "        print(25*'-')\n",
    "    print('\\nClosest Doc2Vec documents:\\n' + 50*'-')\n",
    "    for i in sorted_d2v_distance_indices[ix][:number_of_articles]:\n",
    "        print(i)\n",
    "        print(docs[i][:300] + '....')\n",
    "        print(25*'-')\n",
    "print_result_difference(300)"
   ]
  }
 ],
 "metadata": {
  "kernelspec": {
   "display_name": "Python [conda env:regulatory_tracker]",
   "language": "python",
   "name": "conda-env-regulatory_tracker-py"
  },
  "language_info": {
   "codemirror_mode": {
    "name": "ipython",
    "version": 3.0
   },
   "file_extension": ".py",
   "mimetype": "text/x-python",
   "name": "python",
   "nbconvert_exporter": "python",
   "pygments_lexer": "ipython3",
   "version": "3.6.2"
  }
 },
 "nbformat": 4,
 "nbformat_minor": 0
}