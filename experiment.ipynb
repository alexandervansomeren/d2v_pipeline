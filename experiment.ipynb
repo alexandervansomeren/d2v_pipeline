{
 "cells": [
  {
   "cell_type": "code",
   "execution_count": 1,
   "metadata": {},
   "outputs": [],
   "source": [
    "%load_ext autoreload\n",
    "%autoreload 2"
   ]
  },
  {
   "cell_type": "code",
   "execution_count": 2,
   "metadata": {},
   "outputs": [],
   "source": [
    "import pickle\n",
    "import os\n",
    "\n",
    "import doc2vec\n",
    "import scipy.spatial.distance\n",
    "\n",
    "import rank_metrics\n",
    "import numpy as np"
   ]
  },
  {
   "cell_type": "code",
   "execution_count": 16,
   "metadata": {
    "collapsed": true
   },
   "outputs": [],
   "source": [
    "os.environ['TF_CPP_MIN_LOG_LEVEL'] = '2'  # cancel optimization complaints by tensorflow"
   ]
  },
  {
   "cell_type": "code",
   "execution_count": 3,
   "metadata": {},
   "outputs": [],
   "source": [
    "raw_data_folder = 'test'  # original_articles or aminer_org_v1\n",
    "rel_labels_fname = 'relevance_labels_' + raw_data_folder + '.p'\n",
    "\n",
    "distance_measure = 'cosine'"
   ]
  },
  {
   "cell_type": "code",
   "execution_count": 4,
   "metadata": {},
   "outputs": [
    {
     "name": "stdout",
     "output_type": "stream",
     "text": [
      "Computing relevance labels using bm25... (this takes a while, but should only be done once..)\n",
      "1000\n",
      "Computing BM25...\n",
      "Done computing bm25, compute average IDF...\n",
      "Done computing average IDF.\n",
      "Computing relative scores...\n",
      "0 / 1000\n",
      "Total score time: 0.12311005592346191 seconds.\n",
      "Total sort time: 0.00030303001403808594 seconds.\n",
      "100 / 1000\n",
      "Total score time: 11.77949571609497 seconds.\n",
      "Total sort time: 0.035662174224853516 seconds.\n",
      "200 / 1000\n",
      "Total score time: 24.62450885772705 seconds.\n",
      "Total sort time: 0.07507538795471191 seconds.\n",
      "300 / 1000\n",
      "Total score time: 36.77523398399353 seconds.\n",
      "Total sort time: 0.11400222778320312 seconds.\n",
      "400 / 1000\n",
      "Total score time: 49.40952968597412 seconds.\n",
      "Total sort time: 0.15625643730163574 seconds.\n",
      "500 / 1000\n",
      "Total score time: 60.93676137924194 seconds.\n",
      "Total sort time: 0.192457914352417 seconds.\n",
      "600 / 1000\n",
      "Total score time: 73.45885729789734 seconds.\n",
      "Total sort time: 0.23304510116577148 seconds.\n",
      "700 / 1000\n",
      "Total score time: 88.07874774932861 seconds.\n",
      "Total sort time: 0.28484296798706055 seconds.\n",
      "800 / 1000\n",
      "Total score time: 100.59486985206604 seconds.\n",
      "Total sort time: 0.32680225372314453 seconds.\n",
      "900 / 1000\n",
      "Total score time: 112.62808918952942 seconds.\n",
      "Total sort time: 0.3637573719024658 seconds.\n"
     ]
    }
   ],
   "source": [
    "\"\"\"\n",
    "Get relevance labels\n",
    "\"\"\"\n",
    "\n",
    "if not os.path.isfile(rel_labels_fname):\n",
    "    print('Computing relevance labels using bm25... (this takes a while, but should only be done once..)')\n",
    "    import prepare_relevance_labels\n",
    "\n",
    "    prepare_relevance_labels.prepare_relevance_labels(output_fname=rel_labels_fname, folder=raw_data_folder)\n",
    "\n",
    "with open(rel_labels_fname, 'rb') as f:\n",
    "    source_dict, docs, doc_names, tokenized, bm25_scores, sorted_bm25_indices = pickle.load(f)"
   ]
  },
  {
   "cell_type": "code",
   "execution_count": 19,
   "metadata": {},
   "outputs": [
    {
     "name": "stdout",
     "output_type": "stream",
     "text": [
      "Initializing and training paragraph vectors\n",
      "Average loss at step 0: 5.377675\n",
      "Average loss at step 2000: 12.884814\n",
      "Average loss at step 4000: 3.352059\n",
      "Average loss at step 6000: 1.864697\n",
      "Average loss at step 8000: 1.275695\n",
      "Average loss at step 10000: 0.958659\n"
     ]
    }
   ],
   "source": [
    "\"\"\"\n",
    "Train paragraph vectors\n",
    "\"\"\"\n",
    "def train_or_load(doc2vec_model_folder, tokenized):\n",
    "    # Always train, because restoring does not work\n",
    "    if not os.path.exists(doc2vec_model_folder):\n",
    "        print('Initializing and training paragraph vectors')\n",
    "        d2v = doc2vec.Doc2Vec(batch_size=128,\n",
    "                              window_size=8,\n",
    "    #                           prior_sample_size=10,\n",
    "                              concat=True,\n",
    "                              architecture='pvdm',\n",
    "                              embedding_size_w=300,  # word embedding size\n",
    "                              embedding_size_d=300,  # document embeding size\n",
    "                              vocabulary_size=300,\n",
    "                              document_size=len(tokenized),\n",
    "                              loss_type='sampled_softmax_loss',\n",
    "                              n_neg_samples=64,\n",
    "                              optimize='Adagrad',\n",
    "                              learning_rate=1.0,\n",
    "                              n_steps=10001  # 100001\n",
    "                              )\n",
    "\n",
    "        d2v.fit(tokenized)\n",
    "#         latest_checkpoint = d2v.save(doc2vec_model_folder)\n",
    "#     else:\n",
    "#         d2v = doc2vec.Doc2Vec.restore(doc2vec_model_folder)\n",
    "train_or_load('a', tokenized)"
   ]
  },
  {
   "cell_type": "code",
   "execution_count": null,
   "metadata": {
    "collapsed": true
   },
   "outputs": [],
   "source": [
    "d2v = doc2vec.Doc2Vec.restore(doc2vec_model_folder)"
   ]
  },
  {
   "cell_type": "code",
   "execution_count": null,
   "metadata": {
    "collapsed": true
   },
   "outputs": [],
   "source": [
    "\"\"\"\n",
    "Evaluate\n",
    "\"\"\"\n",
    "distances = scipy.spatial.distance.squareform(scipy.spatial.distance.pdist(d2v.doc_embeddings, metric=distance_measure))\n",
    "\n",
    "results = []\n",
    "hits = []\n",
    "sorted_d2v_distance_indices = []\n",
    "for doc_index, distance in enumerate(distances):\n",
    "    sorted_distance_indices = sorted(range(len(distance)), key=lambda x: distance[x], reverse=False)\n",
    "    relevance_set = set(sorted_bm25_indices[doc_index][:10])\n",
    "    hit = np.array([ix in relevance_set for ix in sorted_distance_indices[:10]], dtype=int)\n",
    "    average_precision = rank_metrics.average_precision(hit)\n",
    "    ndcg_at_10 = rank_metrics.ndcg_at_k(hit, 10)\n",
    "    sorted_d2v_distance_indices.append(sorted_distance_indices)    \n",
    "    hits.append(hit)\n",
    "    results.append({\n",
    "        'average_precision': average_precision,\n",
    "        'ndcg_at_10': ndcg_at_10,\n",
    "    })\n",
    "\n",
    "print(\"MAP: \", rank_metrics.mean_average_precision(hits))\n",
    "print(\"MRR: \", rank_metrics.mean_reciprocal_rank(hits))"
   ]
  },
  {
   "cell_type": "markdown",
   "metadata": {},
   "source": [
    "NDIMS = 64\n",
    "\n",
    "MAP:  0.646\n",
    "MRR:  0.711\n",
    "\n",
    "NDIMS = 128\n",
    "\n",
    "MAP:  0.651\n",
    "MRR:  0.707\n",
    "\n",
    "NDIMS = 128\n",
    "BM25 scores appended:\n",
    "MAP:  0.651\n",
    "MRR:  0.699\n",
    "\n",
    "NDIMS = 300\n",
    "BM25 scores appended:\n",
    "MAP:  0.657\n",
    "MRR:  0.699"
   ]
  },
  {
   "cell_type": "code",
   "execution_count": null,
   "metadata": {
    "collapsed": true
   },
   "outputs": [],
   "source": [
    "import pandas as pd"
   ]
  },
  {
   "cell_type": "code",
   "execution_count": null,
   "metadata": {
    "collapsed": true
   },
   "outputs": [],
   "source": [
    "df = pd.DataFrame(results)\n",
    "print(df)"
   ]
  },
  {
   "cell_type": "code",
   "execution_count": null,
   "metadata": {
    "collapsed": true
   },
   "outputs": [],
   "source": [
    "def print_result_difference(ix, number_of_articles=2):\n",
    "    print(\"Source document:\")\n",
    "    print(docs[ix], '\\nMost similar (BM25) documents:\\n' + 50*'-')\n",
    "    for i in sorted_bm25_indices[ix][:number_of_articles]:\n",
    "        print(i)\n",
    "        print(docs[i][:300] + '...')\n",
    "        print(25*'-')\n",
    "    print('\\nClosest Doc2Vec documents:\\n' + 50*'-')\n",
    "    for i in sorted_d2v_distance_indices[ix][:number_of_articles]:\n",
    "        print(i)\n",
    "        print(docs[i][:300] + '....')\n",
    "        print(25*'-')\n",
    "print_result_difference(300)"
   ]
  }
 ],
 "metadata": {
  "kernelspec": {
   "display_name": "Python [conda env:regulatory_tracker]",
   "language": "python",
   "name": "conda-env-regulatory_tracker-py"
  },
  "language_info": {
   "codemirror_mode": {
    "name": "ipython",
    "version": 3
   },
   "file_extension": ".py",
   "mimetype": "text/x-python",
   "name": "python",
   "nbconvert_exporter": "python",
   "pygments_lexer": "ipython3",
   "version": "3.6.3"
  }
 },
 "nbformat": 4,
 "nbformat_minor": 1
}
